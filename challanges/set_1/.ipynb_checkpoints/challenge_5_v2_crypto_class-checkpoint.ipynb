{
 "cells": [
  {
   "cell_type": "code",
   "execution_count": 1,
   "metadata": {},
   "outputs": [
    {
     "data": {
      "text/plain": [
       "<module 'libraries.numeral' from 'C:\\\\Users\\\\Oguz\\\\Desktop\\\\Cryptopals Challange\\\\libraries\\\\numeral.py'>"
      ]
     },
     "execution_count": 1,
     "metadata": {},
     "output_type": "execute_result"
    }
   ],
   "source": [
    "import os\n",
    "import sys\n",
    "module_path = os.path.abspath(os.path.join('..\\..'))\n",
    "if module_path not in sys.path:\n",
    "    sys.path.append(module_path)\n",
    "    \n",
    "import binascii\n",
    "import numpy as np\n",
    "import importlib\n",
    "from libraries import crypto\n",
    "from libraries import numeral\n",
    "\n",
    "importlib.reload(crypto)\n",
    "importlib.reload(numeral)"
   ]
  },
  {
   "cell_type": "markdown",
   "metadata": {},
   "source": [
    "<p style=\"color:royalblue; font-size:18px;\">\n",
    "    <b>\n",
    "        Checking the Crypto Library with the Challange 3\n",
    "    </b>\n",
    "</p>"
   ]
  },
  {
   "cell_type": "code",
   "execution_count": 2,
   "metadata": {},
   "outputs": [
    {
     "name": "stdout",
     "output_type": "stream",
     "text": [
      "Cooking MC's like a pound of bacon\n",
      "Key:  X  / Solution:  Cooking MC's like a pound of bacon\n",
      "True\n"
     ]
    }
   ],
   "source": [
    "importlib.reload(crypto)\n",
    "\n",
    "cipher_1 = \"1b37373331363f78151b7f2b783431333d78397828372d363c78373e783a393b3736\"\n",
    "plaintext_1 = \"Cooking MC's like a pound of bacon\"\n",
    "\n",
    "key = \"X\"\n",
    "\n",
    "challange_3 = crypto.Crypto(ciphertext=cipher_1)\n",
    "\n",
    "a = challange_3.decodeSingleByteXOR(key)\n",
    "print(a)\n",
    "\n",
    "# b = challange_3.encodeSingleByteXOR(key)\n",
    "# print(b)\n",
    "\n",
    "\n",
    "c = challange_3.decipherSingleByteXOR(print_sln=True)\n",
    "\n",
    "print(isinstance(challange_3, crypto.Crypto))"
   ]
  },
  {
   "cell_type": "markdown",
   "metadata": {},
   "source": [
    "<p style=\"color:royalblue; font-size:18px;\">\n",
    "    <b>\n",
    "        Checking the Crypto Library with the Challange 4 & Loading the data\n",
    "    </b>\n",
    "</p>"
   ]
  },
  {
   "cell_type": "code",
   "execution_count": 3,
   "metadata": {},
   "outputs": [
    {
     "name": "stdout",
     "output_type": "stream",
     "text": [
      "Data length is 327\n",
      "String:  0e3647e8592d35514a081243582536ed3de6734059001e3f535ce6271032\n",
      "Length:  60\n"
     ]
    },
    {
     "data": {
      "text/plain": [
       "'2'"
      ]
     },
     "execution_count": 3,
     "metadata": {},
     "output_type": "execute_result"
    }
   ],
   "source": [
    "challange_data_addr = \"C:\\\\Users\\\\Oguz\\\\Desktop\\\\Cryptopals Challange\\\\challanges\\\\set_1\\\\challange_4.txt\"\n",
    "data = np.loadtxt(challange_data_addr, dtype='str')\n",
    "print(\"Data length is\", len(data))\n",
    "first_string = data[0]\n",
    "first_string_len = len(first_string)\n",
    "print(\"String: \", first_string)\n",
    "print(\"Length: \", first_string_len)\n",
    "first_string[-1]"
   ]
  },
  {
   "cell_type": "code",
   "execution_count": 15,
   "metadata": {},
   "outputs": [
    {
     "name": "stdout",
     "output_type": "stream",
     "text": [
      "False\n"
     ]
    },
    {
     "data": {
      "text/plain": [
       "array([0.60472, 0.31604, 0.48552, ..., 0.41851, 0.71113, 0.64618])"
      ]
     },
     "execution_count": 15,
     "metadata": {},
     "output_type": "execute_result"
    }
   ],
   "source": [
    "importlib.reload(crypto)\n",
    "from string import printable\n",
    "\n",
    "# Create the score array & the challange crypto object\n",
    "keychain_length = len(printable)\n",
    "total_scores = np.zeros(327*keychain_length)\n",
    "\n",
    "crypto_objs = [crypto.Crypto(ciphertext=data[i]) for i in range(len(data))]\n",
    "\n",
    "\n",
    "for idx, crypto_obj in enumerate(crypto_objs):\n",
    "    \n",
    "    score_array, _ = crypto_obj.decipherSingleByteXOR()\n",
    "   \n",
    "    total_scores[idx*keychain_length:(idx+1)*keychain_length] = score_array\n",
    "#     print(\"***///***\")\n",
    "\n",
    "print(isinstance(challange_4, crypto.Crypto))\n",
    "\n",
    "total_scores"
   ]
  },
  {
   "cell_type": "code",
   "execution_count": 17,
   "metadata": {},
   "outputs": [
    {
     "name": "stdout",
     "output_type": "stream",
     "text": [
      "[17005 28935]\n",
      "2.00223\n",
      "Highest index is  17005\n",
      "Remainder is  5\n",
      "Line is  170\n",
      "Key:  5  / Solution:  Now that the party is jumping\n",
      "**\n",
      "1.3107900000000001\n",
      "Highest index is  28935\n",
      "Remainder is  35\n",
      "Line is  289\n",
      "Key:  Z  / Solution:  tHuvGUEMTViEV\\sLJn\\Y#EieTV\n",
      "**\n"
     ]
    }
   ],
   "source": [
    "first_n = 2\n",
    "\n",
    "highest_idx = np.array(total_scores).argsort()[-first_n:][::-1]\n",
    "\n",
    "print(highest_idx)\n",
    "\n",
    "for i in range(first_n):\n",
    "    \n",
    "    current_idx = highest_idx[i]\n",
    "    print(total_scores[current_idx])\n",
    "    \n",
    "    print(\"Highest index is \", highest_idx[i])\n",
    "\n",
    "    remain = np.remainder(highest_idx[i], keychain_length)\n",
    "    print(\"Remainder is \", remain)\n",
    "\n",
    "    data_idx = int((highest_idx[i] - remain) / keychain_length)   \n",
    "    print(\"Line is \", data_idx)\n",
    "    prob_data = data[data_idx]\n",
    "\n",
    "    challange_4 = crypto.Crypto(ciphertext = prob_data, base = 16)\n",
    "    challange_4.decipherSingleByteXOR(print_sln=True)\n",
    "    \n",
    "    print(\"**\")"
   ]
  },
  {
   "cell_type": "markdown",
   "metadata": {},
   "source": [
    "<p style=\"color:royalblue; font-size:18px;\">\n",
    "    <b>\n",
    "        Checking the Crypto Library with the Challange 5\n",
    "    </b>\n",
    "</p>"
   ]
  },
  {
   "cell_type": "code",
   "execution_count": 1,
   "metadata": {},
   "outputs": [
    {
     "ename": "NameError",
     "evalue": "name 'importlib' is not defined",
     "output_type": "error",
     "traceback": [
      "\u001b[1;31m---------------------------------------------------------------------------\u001b[0m",
      "\u001b[1;31mNameError\u001b[0m                                 Traceback (most recent call last)",
      "\u001b[1;32m<ipython-input-1-288728de8740>\u001b[0m in \u001b[0;36m<module>\u001b[1;34m\u001b[0m\n\u001b[1;32m----> 1\u001b[1;33m \u001b[0mimportlib\u001b[0m\u001b[1;33m.\u001b[0m\u001b[0mreload\u001b[0m\u001b[1;33m(\u001b[0m\u001b[0mcrypto\u001b[0m\u001b[1;33m)\u001b[0m\u001b[1;33m\u001b[0m\u001b[1;33m\u001b[0m\u001b[0m\n\u001b[0m\u001b[0;32m      2\u001b[0m \u001b[1;33m\u001b[0m\u001b[0m\n\u001b[0;32m      3\u001b[0m \u001b[0mplaintext_5\u001b[0m \u001b[1;33m=\u001b[0m \u001b[1;34m\"Burning 'em, if you ain't quick and nimble\\nI go crazy when I hear a cymbal\"\u001b[0m\u001b[1;33m\u001b[0m\u001b[1;33m\u001b[0m\u001b[0m\n\u001b[0;32m      4\u001b[0m \u001b[0mciphertext_5\u001b[0m \u001b[1;33m=\u001b[0m \u001b[1;34m\"0b3637272a2b2e63622c2e69692a23693a2a3c6324202d623d63343c2a26226324272765272a282b2f20430a652e2c652a3124333a653e2b2027630c692b20283165286326302e27282f\"\u001b[0m\u001b[1;33m\u001b[0m\u001b[1;33m\u001b[0m\u001b[0m\n\u001b[0;32m      5\u001b[0m \u001b[1;33m\u001b[0m\u001b[0m\n",
      "\u001b[1;31mNameError\u001b[0m: name 'importlib' is not defined"
     ]
    }
   ],
   "source": [
    "importlib.reload(crypto)\n",
    "\n",
    "plaintext_5 = \"Burning 'em, if you ain't quick and nimble\\nI go crazy when I hear a cymbal\"\n",
    "ciphertext_5 = \"0b3637272a2b2e63622c2e69692a23693a2a3c6324202d623d63343c2a26226324272765272a282b2f20430a652e2c652a3124333a653e2b2027630c692b20283165286326302e27282f\"\n",
    "\n",
    "ch_5_key = crypto.Crypto(plaintext=\"ICE\")\n",
    "\n",
    "challange_5_plain = crypto.Crypto(plaintext=plaintext_5)\n",
    "challange_5_cipher = crypto.Crypto(ciphertext=ciphertext_5)\n",
    "\n",
    "a = challange_5_plain.encodeRepeatingByteXOR(ch_5_key.plaintext)\n",
    "print(a == ciphertext_5)\n",
    "\n",
    "b = challange_5_cipher.decodeRepeatingByteXOR(ch_5_key)\n",
    "print(b)\n",
    "\n",
    "print(isinstance(challange_5_cipher, crypto.Crypto))\n",
    "\n",
    "\n",
    "ch_5_key.value"
   ]
  }
 ],
 "metadata": {
  "kernelspec": {
   "display_name": "Python 3",
   "language": "python",
   "name": "python3"
  },
  "language_info": {
   "codemirror_mode": {
    "name": "ipython",
    "version": 3
   },
   "file_extension": ".py",
   "mimetype": "text/x-python",
   "name": "python",
   "nbconvert_exporter": "python",
   "pygments_lexer": "ipython3",
   "version": "3.7.2"
  }
 },
 "nbformat": 4,
 "nbformat_minor": 2
}
