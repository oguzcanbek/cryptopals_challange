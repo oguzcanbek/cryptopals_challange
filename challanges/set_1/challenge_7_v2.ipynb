{
 "cells": [
  {
   "cell_type": "code",
   "execution_count": 78,
   "metadata": {},
   "outputs": [
    {
     "name": "stdout",
     "output_type": "stream",
     "text": [
      "C:\\Users\\Oguz\\Desktop\\Cryptopals Challange\n"
     ]
    },
    {
     "data": {
      "text/plain": [
       "<module 'libraries.numeral' from 'C:\\\\Users\\\\Oguz\\\\Desktop\\\\Cryptopals Challange\\\\libraries\\\\numeral.py'>"
      ]
     },
     "execution_count": 78,
     "metadata": {},
     "output_type": "execute_result"
    }
   ],
   "source": [
    "import os\n",
    "import sys\n",
    "module_path = os.path.abspath(os.path.join('..\\..'))\n",
    "if module_path not in sys.path:\n",
    "    sys.path.append(module_path)\n",
    "    \n",
    "import binascii\n",
    "import math\n",
    "import numpy as np\n",
    "from collections import deque\n",
    "import importlib\n",
    "print(module_path)\n",
    "\n",
    "from libraries import encryption_standards as es\n",
    "from libraries import crypto\n",
    "from libraries import numeral\n",
    "\n",
    "importlib.reload(es)\n",
    "importlib.reload(crypto)\n",
    "importlib.reload(numeral)"
   ]
  },
  {
   "cell_type": "markdown",
   "metadata": {},
   "source": [
    "<p style=\"color:royalblue; font-size:18px;\">\n",
    "    <b>\n",
    "        Loading the Challange 7 Data\n",
    "    </b>\n",
    "</p>"
   ]
  },
  {
   "cell_type": "code",
   "execution_count": 2,
   "metadata": {},
   "outputs": [
    {
     "name": "stdout",
     "output_type": "stream",
     "text": [
      "Text is  2880 bytes long\n",
      "Which makes the total number of blocks  180\n"
     ]
    }
   ],
   "source": [
    "data_path = \"C:\\\\Users\\\\Oguz\\\\Desktop\\\\Cryptopals Challange\\\\challanges\\\\set_1\\\\challenge_7.txt\"\n",
    "data = np.loadtxt(data_path, dtype='str')\n",
    "\n",
    "data_str = \"\"\n",
    "\n",
    "for row in data:\n",
    "    data_str += row\n",
    "    \n",
    "total_bytes = int((len(data_str) * 6) / 8)\n",
    "number_of_blocks = int(total_bytes/16)\n",
    "\n",
    "print(\"Text is \", total_bytes, \"bytes long\")\n",
    "print(\"Which makes the total number of blocks \", number_of_blocks)\n",
    "\n",
    "# data_str"
   ]
  },
  {
   "cell_type": "markdown",
   "metadata": {},
   "source": [
    "<p style=\"color:royalblue; font-size:18px;\">\n",
    "    <b>\n",
    "        Converting the CIPHERTEXT into column-major 4x4 16 byte blocks\n",
    "    </b>\n",
    "</p>"
   ]
  },
  {
   "cell_type": "code",
   "execution_count": 3,
   "metadata": {
    "scrolled": true
   },
   "outputs": [
    {
     "name": "stdout",
     "output_type": "stream",
     "text": [
      "59454c4c4f57205355424d4152494e45\n",
      "180\n",
      "[['09' 'de' 'db' 'f8']\n",
      " ['12' '3e' 'aa' '8d']\n",
      " ['30' 'b3' '43' '2a']\n",
      " ['aa' '30' '58' '6c']]\n"
     ]
    }
   ],
   "source": [
    "importlib.reload(crypto)\n",
    "\n",
    "ch_7_obj = es.Encrypto(ciphertext=data_str, base=64)\n",
    "ch_7_obj.Base16()\n",
    "\n",
    "ch_7_key = crypto.Crypto(plaintext=\"YELLOW SUBMARINE\")\n",
    "print(ch_7_key.value)\n",
    "\n",
    "blocksize = 128\n",
    "block_bytes = 32\n",
    "\n",
    "print(number_of_blocks)\n",
    "# Divide the ciphertext into 16 byte blocks (each element is 2 hex digits = 8 bits = 1 byte)\n",
    "blocks = [crypto.Crypto(ciphertext=ch_7_obj.value[i*block_bytes:(i+1)*block_bytes], base=16) for i in range(number_of_blocks)]\n",
    "\n",
    "# Create the 16-byte states in column-major(Transpose)\n",
    "states = [np.array([block.value[i*2:(i+1)*2] for i in range(16)]).reshape((4,4)).T for block in blocks]\n",
    "\n",
    "print(states[0])"
   ]
  },
  {
   "cell_type": "markdown",
   "metadata": {},
   "source": [
    "<p style=\"color:royalblue; font-size:18px;\">\n",
    "    <b>\n",
    "        Converting the KEY into column-major 4x4 16 byte blocks\n",
    "    </b>\n",
    "</p>"
   ]
  },
  {
   "cell_type": "code",
   "execution_count": 4,
   "metadata": {},
   "outputs": [
    {
     "name": "stdout",
     "output_type": "stream",
     "text": [
      "[['59' '4f' '55' '52']\n",
      " ['45' '57' '42' '49']\n",
      " ['4c' '20' '4d' '4e']\n",
      " ['4c' '53' '41' '45']]\n"
     ]
    },
    {
     "data": {
      "text/plain": [
       "'52494e45'"
      ]
     },
     "execution_count": 4,
     "metadata": {},
     "output_type": "execute_result"
    }
   ],
   "source": [
    "# Convert the key into a column-major 16 byte block\n",
    "key_block = np.array([ch_7_key.value[i*2:(i+1)*2] for i in range(16)]).reshape((4,4)).T\n",
    "\n",
    "print(key_block)\n",
    "\n",
    "# Take the last column\n",
    "# last_column = \"\"\n",
    "\"\".join(key_block[:,-1])"
   ]
  },
  {
   "cell_type": "markdown",
   "metadata": {},
   "source": [
    "<p style=\"color:royalblue; font-size:18px;\">\n",
    "    <b>\n",
    "        Creating the RCON list\n",
    "    </b>\n",
    "</p>"
   ]
  },
  {
   "cell_type": "code",
   "execution_count": 6,
   "metadata": {},
   "outputs": [
    {
     "name": "stdout",
     "output_type": "stream",
     "text": [
      "deque(['a', 'b', 'c', 'd'])\n",
      "deque(['b', 'c', 'd', 'a'])\n"
     ]
    },
    {
     "data": {
      "text/plain": [
       "[['01', '00', '00', '00'],\n",
       " ['02', '00', '00', '00'],\n",
       " ['04', '00', '00', '00'],\n",
       " ['08', '00', '00', '00'],\n",
       " ['10', '00', '00', '00'],\n",
       " ['20', '00', '00', '00'],\n",
       " ['40', '00', '00', '00'],\n",
       " ['80', '00', '00', '00'],\n",
       " ['1B', '00', '00', '00'],\n",
       " ['36', '00', '00', '00']]"
      ]
     },
     "execution_count": 6,
     "metadata": {},
     "output_type": "execute_result"
    }
   ],
   "source": [
    "deneme_block = [\"a\", \"b\", \"c\", \"d\"]\n",
    "\n",
    "asd = deque(deneme_block)\n",
    "print(asd)\n",
    "asd.rotate(-1)\n",
    "print(asd)\n",
    "\n",
    "rc_list = [\"01\", \"02\", \"04\", \"08\", \"10\", \"20\", \"40\", \"80\", \"1B\", \"36\"]\n",
    "rcon_list = [[rc] + [\"00\", \"00\", \"00\"] for rc in rc_list]\n",
    "\n",
    "rcon_list"
   ]
  },
  {
   "cell_type": "markdown",
   "metadata": {},
   "source": [
    "<p style=\"color:royalblue; font-size:18px;\">\n",
    "    <b>\n",
    "        Creating the AES S-Box function\n",
    "    </b>\n",
    "</p>"
   ]
  },
  {
   "cell_type": "code",
   "execution_count": 76,
   "metadata": {
    "scrolled": false
   },
   "outputs": [],
   "source": [
    "# Load the AES S-Box data\n",
    "s_box_path = \"C:\\\\Users\\\\Oguz\\\\Desktop\\\\Cryptopals Challange\\\\challanges\\\\set_1\\\\s_box.txt\"\n",
    "s_box      = np.loadtxt(s_box_path, dtype='str')\n",
    "\n",
    "# Delete the row and column and reshape into 1-D array\n",
    "s_box = s_box[1:,1:].reshape(256)\n",
    "\n",
    "# Create an array of hex values for 0 to 255\n",
    "dec_objs = [numeral.Numeral(value=str(i), base=10) for i in range(256)]\n",
    "[dec_obj.Base16() for dec_obj in dec_objs]\n",
    "hex_list = [elem.value for elem in dec_objs]\n",
    "\n",
    "# Now combine the to lists into one dictionary\n",
    "s_box_dict = {(hex_key if len(hex_key)==2 else '0'+hex_key):s_value for hex_key, s_value in zip(hex_list, s_box)}\n",
    "\n",
    "# s_box_dict"
   ]
  },
  {
   "cell_type": "code",
   "execution_count": 81,
   "metadata": {},
   "outputs": [
    {
     "data": {
      "text/plain": [
       "'15'"
      ]
     },
     "execution_count": 81,
     "metadata": {},
     "output_type": "execute_result"
    }
   ],
   "source": [
    "importlib.reload(es)\n",
    "\n",
    "es.Encrypto.AES_S_Box(\"2f\")"
   ]
  }
 ],
 "metadata": {
  "kernelspec": {
   "display_name": "Python 3",
   "language": "python",
   "name": "python3"
  },
  "language_info": {
   "codemirror_mode": {
    "name": "ipython",
    "version": 3
   },
   "file_extension": ".py",
   "mimetype": "text/x-python",
   "name": "python",
   "nbconvert_exporter": "python",
   "pygments_lexer": "ipython3",
   "version": "3.7.2"
  }
 },
 "nbformat": 4,
 "nbformat_minor": 2
}
