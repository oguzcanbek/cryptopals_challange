{
 "cells": [
  {
   "cell_type": "code",
   "execution_count": 2,
   "metadata": {},
   "outputs": [
    {
     "data": {
      "text/plain": [
       "<module 'libraries.numeral' from 'C:\\\\Users\\\\Oguz\\\\Desktop\\\\Cryptopals Challange\\\\libraries\\\\numeral.py'>"
      ]
     },
     "execution_count": 2,
     "metadata": {},
     "output_type": "execute_result"
    }
   ],
   "source": [
    "import os\n",
    "import sys\n",
    "module_path = os.path.abspath(os.path.join('..'))\n",
    "if module_path not in sys.path:\n",
    "    sys.path.append(module_path)\n",
    "    \n",
    "import binascii\n",
    "import numpy as np\n",
    "import importlib\n",
    "from libraries import numeral\n",
    "\n",
    "importlib.reload(numeral)"
   ]
  },
  {
   "cell_type": "code",
   "execution_count": 2,
   "metadata": {},
   "outputs": [
    {
     "name": "stdout",
     "output_type": "stream",
     "text": [
      "SSdtIGtpbGxpbmcgeW91ciBicmFpbiBsaWtlIGEgcG9pc29ub3VzIG11c2hyb29t\n"
     ]
    },
    {
     "data": {
      "text/plain": [
       "True"
      ]
     },
     "execution_count": 2,
     "metadata": {},
     "output_type": "execute_result"
    }
   ],
   "source": [
    "# from Document import Numeral\n",
    "\n",
    "solution = \"SSdtIGtpbGxpbmcgeW91ciBicmFpbiBsaWtlIGEgcG9pc29ub3VzIG11c2hyb29t\"\n",
    "\n",
    "doc = numeral.Numeral()\n",
    "\n",
    "doc.value = \"49276d206b696c6c696e6720796f757220627261696e206c696b65206120706f69736f6e6f7573206d757368726f6f6d\"\n",
    "doc.base = 16\n",
    "\n",
    "doc.Base64()\n",
    "\n",
    "\n",
    "solution == doc.value"
   ]
  },
  {
   "cell_type": "code",
   "execution_count": 5,
   "metadata": {},
   "outputs": [],
   "source": [
    "class Crypto(numeral.Numeral):\n",
    "    \n",
    "    \n",
    "    def __init__(self, base=2):\n",
    "        self.value = \"0\"\n",
    "        self.base = base\n",
    "        \n",
    "        \n",
    "    @staticmethod\n",
    "    def toASCII(string):\n",
    "        ASCII_str = bytearray.fromhex(string.value).decode('ascii')\n",
    "        return ASCII_str\n",
    "    \n",
    "    \n",
    "    @staticmethod\n",
    "    def ASCIIToHex(string):\n",
    "#         hexadecimal = string.value\n",
    "        hexadecimal = binascii.hexlify(bytes(string.value, 'ascii'))\n",
    "        return hexadecimal.decode('ascii') \n",
    "    \n",
    "    \n",
    "    @staticmethod\n",
    "    def XOR(str_1, str_2):\n",
    "        str_1.Base2()\n",
    "        str_2.Base2()\n",
    "        xor = \"\"\n",
    "        for a, b in zip(str_1.value, str_2.value):\n",
    "            sol = int(a) ^ int(b)\n",
    "            xor += str(sol)\n",
    "        str_1.Base16()\n",
    "        str_2.Base16()\n",
    "        return xor\n",
    "    \n",
    "    \n",
    "    @staticmethod\n",
    "    def singleByteXOR(string, key_value):\n",
    "        \n",
    "        ASCII_string = Crypto.toASCII(string)\n",
    "        ASCII_len = len(ASCII_string)\n",
    "        \n",
    "        key = numeral.Numeral(16)\n",
    "        dummy_key = \"\"\n",
    "        \n",
    "        for i in range(ASCII_len):\n",
    "            dummy_key += key_value\n",
    "        key.value = dummy_key\n",
    "        key.value = Crypto.ASCIIToHex(key)\n",
    "        \n",
    "        key.value = Crypto.XOR(string, key)\n",
    "        key.Base16()\n",
    "        \n",
    "        result = Crypto.toASCII(key)\n",
    "        \n",
    "        return result\n",
    "        \n",
    "    \n",
    "    @staticmethod\n",
    "    def evaluateString(string):\n",
    "        \n",
    "        eng_letter_frq = {\"a\": \"0.08167\", \"b\": \"0.01492\", \"c\": \"0.02782\", \"d\": \"0.04253\", \"e\": \"0.12702\", \"f\": \"0.02228\",\n",
    "                          \"g\": \"0.02015\", \"h\": \"0.06094\", \"i\": \"0.06966\", \"j\": \"0.00153\", \"k\": \"0.00772\", \"l\": \"0.04025\",\n",
    "                          \"m\": \"0.02406\", \"n\": \"0.06749\", \"o\": \"0.07507\", \"p\": \"0.01929\", \"q\": \"0.00095\", \"r\": \"0.05987\",\n",
    "                          \"s\": \"0.06327\", \"t\": \"0.09056\", \"u\": \"0.02758\", \"v\": \"0.00978\", \"w\": \"0.02360\", \"x\": \"0.00150\",\n",
    "                          \"y\": \"0.01974\", \"z\": \"0.00074\"}\n",
    "        \n",
    "        score = 0\n",
    "        for char in result:\n",
    "            char = char.lower()\n",
    "            try:\n",
    "                score += float(eng_letter_frq[char])\n",
    "            except:\n",
    "                score -= 0\n",
    "        return score\n",
    "    \n",
    "    "
   ]
  },
  {
   "cell_type": "code",
   "execution_count": 13,
   "metadata": {},
   "outputs": [
    {
     "ename": "NameError",
     "evalue": "name 'text' is not defined",
     "output_type": "error",
     "traceback": [
      "\u001b[1;31m---------------------------------------------------------------------------\u001b[0m",
      "\u001b[1;31mNameError\u001b[0m                                 Traceback (most recent call last)",
      "\u001b[1;32m<ipython-input-13-31d8a3316322>\u001b[0m in \u001b[0;36m<module>\u001b[1;34m\u001b[0m\n\u001b[0;32m     11\u001b[0m \u001b[0msolution\u001b[0m \u001b[1;33m=\u001b[0m \u001b[1;34m\"746865206b696420646f6e277420706c6179\"\u001b[0m\u001b[1;33m\u001b[0m\u001b[1;33m\u001b[0m\u001b[0m\n\u001b[0;32m     12\u001b[0m \u001b[1;33m\u001b[0m\u001b[0m\n\u001b[1;32m---> 13\u001b[1;33m \u001b[0msol_2\u001b[0m\u001b[1;33m.\u001b[0m\u001b[0mvalue\u001b[0m \u001b[1;33m=\u001b[0m \u001b[0mtext\u001b[0m\u001b[1;33m.\u001b[0m\u001b[0mXOR\u001b[0m\u001b[1;33m(\u001b[0m\u001b[0mstr_1\u001b[0m\u001b[1;33m,\u001b[0m \u001b[0mstr_2\u001b[0m\u001b[1;33m)\u001b[0m\u001b[1;33m\u001b[0m\u001b[1;33m\u001b[0m\u001b[0m\n\u001b[0m\u001b[0;32m     14\u001b[0m \u001b[0msol_2\u001b[0m\u001b[1;33m.\u001b[0m\u001b[0mBase16\u001b[0m\u001b[1;33m(\u001b[0m\u001b[1;33m)\u001b[0m\u001b[1;33m\u001b[0m\u001b[1;33m\u001b[0m\u001b[0m\n\u001b[0;32m     15\u001b[0m \u001b[1;33m\u001b[0m\u001b[0m\n",
      "\u001b[1;31mNameError\u001b[0m: name 'text' is not defined"
     ]
    }
   ],
   "source": [
    "str_1 = numeral.Numeral(16)\n",
    "str_2 = numeral.Numeral(16)\n",
    "\n",
    "sol_2 = numeral.Numeral(2)\n",
    "\n",
    "str_1.value = \"1c0111001f010100061a024b53535009181c\"\n",
    "str_1.base = 16\n",
    "str_2.value = \"686974207468652062756c6c277320657965\"\n",
    "str_2.base = 16\n",
    "\n",
    "solution = \"746865206b696420646f6e277420706c6179\"\n",
    "\n",
    "sol_2.value = text.XOR(str_1, str_2)\n",
    "sol_2.Base16()\n",
    "    \n",
    "sol_2.value == solution"
   ]
  },
  {
   "cell_type": "code",
   "execution_count": 3,
   "metadata": {},
   "outputs": [],
   "source": [
    "### CHALLANGE 3 ###\n",
    "\n",
    "cipher = numeral.Numeral()\n",
    "plaintext = numeral.Numeral()\n",
    "\n",
    "\n",
    "cipher.value = \"1b37373331363f78151b7f2b783431333d78397828372d363c78373e783a393b3736\"\n",
    "cipher.base = 16"
   ]
  },
  {
   "cell_type": "code",
   "execution_count": 12,
   "metadata": {},
   "outputs": [
    {
     "name": "stdout",
     "output_type": "stream",
     "text": [
      "cOOKINGmcSLIKEAPOUNDOFBACON\n",
      "a  : 0.512820\n",
      "b  : 0.778380\n",
      "c  : 0.889110\n",
      "d  : 0.825520\n",
      "e  : 0.884550\n",
      "f  : 0.409370\n",
      "g  : 0.561950\n",
      "h  : 0.597420\n",
      "i  : 0.576580\n",
      "j  : 0.456420\n",
      "k  : 0.384660\n",
      "l  : 0.446930\n",
      "m  : 0.551680\n",
      "n  : 0.644940\n",
      "o  : 0.607260\n",
      "p  : 0.928500\n",
      "q  : 0.732780\n",
      "r  : 1.536810\n",
      "s  : 1.129890\n",
      "t  : 1.060280\n",
      "u  : 0.868740\n",
      "v  : 1.147850\n",
      "w  : 0.837750\n",
      "x  : 1.380730\n",
      "y  : 1.187850\n",
      "z  : 1.135420\n"
     ]
    }
   ],
   "source": [
    "from string import ascii_lowercase\n",
    "import re\n",
    "\n",
    "score_array = np.zeros(len(ascii_lowercase))\n",
    "\n",
    "for idx, letter in enumerate(ascii_lowercase):\n",
    "    result = Crypto.singleByteXOR(cipher, letter)\n",
    "    pretty_result = re.sub(r'[\\x00-\\x1F]+', '', result)\n",
    "#     print(result)\n",
    "    score_array[idx] = Crypto.evaluateString(pretty_result)\n",
    "\n",
    "\n",
    "\n",
    "\n",
    "max_letter_idx = np.argmax(score_array)\n",
    "\n",
    "max_letter = ascii_lowercase[max_letter_idx]\n",
    "\n",
    "solution = Crypto.singleByteXOR(cipher, \"x\")\n",
    "pretty_solution = re.sub(r'[\\x00-\\x1F]+', '', solution)\n",
    "\n",
    "print(pretty_solution)\n",
    "\n",
    "\n",
    "\n",
    "for idx, letter in enumerate(ascii_lowercase):\n",
    "    print(letter, \" : %.6f\" %score_array[idx])"
   ]
  }
 ],
 "metadata": {
  "kernelspec": {
   "display_name": "Python 3",
   "language": "python",
   "name": "python3"
  },
  "language_info": {
   "codemirror_mode": {
    "name": "ipython",
    "version": 3
   },
   "file_extension": ".py",
   "mimetype": "text/x-python",
   "name": "python",
   "nbconvert_exporter": "python",
   "pygments_lexer": "ipython3",
   "version": "3.7.2"
  }
 },
 "nbformat": 4,
 "nbformat_minor": 2
}
