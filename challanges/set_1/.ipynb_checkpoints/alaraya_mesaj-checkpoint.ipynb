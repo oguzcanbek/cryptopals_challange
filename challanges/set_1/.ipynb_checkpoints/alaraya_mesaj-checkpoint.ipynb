{
 "cells": [
  {
   "cell_type": "code",
   "execution_count": 23,
   "metadata": {},
   "outputs": [
    {
     "name": "stdout",
     "output_type": "stream",
     "text": [
      "C:\\Users\\Oguz\\Desktop\\Cryptopals Challange\n"
     ]
    },
    {
     "data": {
      "text/plain": [
       "<module 'libraries.numeral' from 'C:\\\\Users\\\\Oguz\\\\Desktop\\\\Cryptopals Challange\\\\libraries\\\\numeral.py'>"
      ]
     },
     "execution_count": 23,
     "metadata": {},
     "output_type": "execute_result"
    }
   ],
   "source": [
    "import os\n",
    "import sys\n",
    "module_path = os.path.abspath(os.path.join('..\\..'))\n",
    "if module_path not in sys.path:\n",
    "    sys.path.append(module_path)\n",
    "    \n",
    "import binascii\n",
    "import math\n",
    "import numpy as np\n",
    "import importlib\n",
    "print(module_path)\n",
    "\n",
    "from libraries import encryption_standards as es\n",
    "from libraries import crypto\n",
    "from libraries import numeral\n",
    "\n",
    "importlib.reload(es)\n",
    "importlib.reload(crypto)\n",
    "importlib.reload(numeral)"
   ]
  },
  {
   "cell_type": "code",
   "execution_count": 26,
   "metadata": {},
   "outputs": [
    {
     "name": "stdout",
     "output_type": "stream",
     "text": [
      "2)/;a¦#*r·; $6(,\n"
     ]
    }
   ],
   "source": [
    "mesaj = es.Encrypto.ASCIIToHex(\"seni çok özledim\")\n",
    "\n",
    "mesaj_obj = es.Encrypto(ciphertext=mesaj, base=16)\n",
    "\n",
    "anahtar = es.Encrypto(plaintext=\"ALARA\")\n",
    "\n",
    "sifreli_mesaj = mesaj_obj.decodeRepeatingByteXOR(anahtar)\n",
    "\n",
    "# mesaj_obj_b64 = es.Encrypto(plaintext=sifreli_mesaj)\n",
    "\n",
    "# mesaj_obj_b64.Base64()\n",
    "\n",
    "print(sifreli_mesaj)"
   ]
  },
  {
   "cell_type": "code",
   "execution_count": 22,
   "metadata": {},
   "outputs": [
    {
     "data": {
      "text/plain": [
       "'`Lñ\\x83Õy\\x0cQ×H\\x10Üa3\\x01á'"
      ]
     },
     "execution_count": 22,
     "metadata": {},
     "output_type": "execute_result"
    }
   ],
   "source": [
    "sifreli_mesaj_ob = es.Encrypto(ciphertext=\"012090f1b4186030a52971b000416080\", base=16)\n",
    "\n",
    "sifreli_mesaj_ob.decodeRepeatingByteXOR(anahtar)"
   ]
  }
 ],
 "metadata": {
  "kernelspec": {
   "display_name": "Python 3",
   "language": "python",
   "name": "python3"
  },
  "language_info": {
   "codemirror_mode": {
    "name": "ipython",
    "version": 3
   },
   "file_extension": ".py",
   "mimetype": "text/x-python",
   "name": "python",
   "nbconvert_exporter": "python",
   "pygments_lexer": "ipython3",
   "version": "3.7.2"
  }
 },
 "nbformat": 4,
 "nbformat_minor": 2
}
