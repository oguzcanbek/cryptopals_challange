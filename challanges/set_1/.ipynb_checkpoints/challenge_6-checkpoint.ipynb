{
 "cells": [
  {
   "cell_type": "code",
   "execution_count": 149,
   "metadata": {},
   "outputs": [
    {
     "data": {
      "text/plain": [
       "<module 'libraries.numeral' from 'C:\\\\Users\\\\Oguz\\\\Desktop\\\\Cryptopals Challange\\\\libraries\\\\numeral.py'>"
      ]
     },
     "execution_count": 149,
     "metadata": {},
     "output_type": "execute_result"
    }
   ],
   "source": [
    "import os\n",
    "import sys\n",
    "module_path = os.path.abspath(os.path.join('..'))\n",
    "if module_path not in sys.path:\n",
    "    sys.path.append(module_path)\n",
    "    \n",
    "import binascii\n",
    "import math\n",
    "import numpy as np\n",
    "import importlib\n",
    "from libraries import crypto\n",
    "from libraries import numeral\n",
    "\n",
    "importlib.reload(crypto)\n",
    "importlib.reload(numeral)"
   ]
  },
  {
   "cell_type": "markdown",
   "metadata": {},
   "source": [
    "<p style=\"color:royalblue; font-size:18px;\">\n",
    "    <b>\n",
    "        Loading the Challange 6 Data\n",
    "    </b>\n",
    "</p>"
   ]
  },
  {
   "cell_type": "code",
   "execution_count": 150,
   "metadata": {},
   "outputs": [
    {
     "name": "stdout",
     "output_type": "stream",
     "text": [
      "Data length is 64\n",
      "String:  HUIfTQsPAh9PE048GmllH0kcDk4TAQsHThsBFkU2AB4BSWQgVB0dQzNTTmVS\n",
      "Length:  60\n"
     ]
    },
    {
     "data": {
      "text/plain": [
       "'S'"
      ]
     },
     "execution_count": 150,
     "metadata": {},
     "output_type": "execute_result"
    }
   ],
   "source": [
    "challange_data_addr = \"C:\\\\Users\\\\Oguz\\\\Desktop\\\\Cryptopals Challange\\\\challanges\\\\challange_6.txt\"\n",
    "data = np.loadtxt(challange_data_addr, dtype='str')\n",
    "print(\"Data length is\", len(data))\n",
    "first_string = data[0]\n",
    "first_string_len = len(first_string)\n",
    "print(\"String: \", first_string)\n",
    "print(\"Length: \", first_string_len)\n",
    "first_string[-1]"
   ]
  },
  {
   "cell_type": "markdown",
   "metadata": {},
   "source": [
    "<p style=\"color:royalblue; font-size:18px;\">\n",
    "    <b>\n",
    "        Finding the Hamming Distance\n",
    "    </b>\n",
    "</p>"
   ]
  },
  {
   "cell_type": "code",
   "execution_count": 151,
   "metadata": {},
   "outputs": [
    {
     "name": "stdout",
     "output_type": "stream",
     "text": [
      "0111011101101111011010110110101101100001001000000111011101101111011010110110101101100001001000010010000100100001\n"
     ]
    },
    {
     "data": {
      "text/plain": [
       "37"
      ]
     },
     "execution_count": 151,
     "metadata": {},
     "output_type": "execute_result"
    }
   ],
   "source": [
    "test_plaintext = \"this is a test\"\n",
    "test_key = \"wokka wokka!!!\"\n",
    "\n",
    "\n",
    "distance_deneme = crypto.Crypto(plaintext=test_plaintext)\n",
    "\n",
    "distance_deneme.findHammingDistance(test_key)"
   ]
  },
  {
   "cell_type": "markdown",
   "metadata": {},
   "source": [
    "<p style=\"color:royalblue; font-size:18px;\">\n",
    "    <b>\n",
    "        Finding the Keysize\n",
    "    </b>\n",
    "</p>\n",
    "\n",
    "For each KEYSIZE, take the first KEYSIZE worth of bytes, and the second KEYSIZE worth of bytes, and find the edit distance between them. Normalize this result by dividing by KEYSIZE.\n",
    "\n",
    "The KEYSIZE with the smallest normalized edit distance is probably the key. You could proceed perhaps with the smallest 2-3 KEYSIZE values. Or take 4 KEYSIZE blocks instead of 2 and average the distances."
   ]
  },
  {
   "cell_type": "code",
   "execution_count": 152,
   "metadata": {},
   "outputs": [
    {
     "name": "stdout",
     "output_type": "stream",
     "text": [
      "0111010001101000011010010111001100100000011010010111001100100000011000010010000001110100011001010111001101110100\n"
     ]
    },
    {
     "data": {
      "text/plain": [
       "1.6666666666666667"
      ]
     },
     "execution_count": 152,
     "metadata": {},
     "output_type": "execute_result"
    }
   ],
   "source": [
    "distance_deneme.Base2()\n",
    "test_bytes = distance_deneme.value\n",
    "print(test_bytes)\n",
    "\n",
    "keysize = 3\n",
    "\n",
    "\n",
    "crypto.Crypto.findKeysizeScore(keysize, test_bytes)"
   ]
  },
  {
   "cell_type": "markdown",
   "metadata": {},
   "source": [
    "<p style=\"color:royalblue; font-size:18px;\">\n",
    "    <b>\n",
    "        Finding the Keysize for the Challange 6 Text\n",
    "    </b>\n",
    "</p>\n",
    "\n",
    "<p style=\"color:block; font-size:14px;\">\n",
    "    <b>\n",
    "      <p> For each KEYSIZE, take the first KEYSIZE worth of bytes, and the second KEYSIZE worth of bytes, and find the edit distance between them. Normalize this result by dividing by KEYSIZE.\n",
    "      </p>\n",
    "      <p>The KEYSIZE with the smallest normalized edit distance is probably the key. You could proceed perhaps with the \n",
    "        smallest 2-3 KEYSIZE values. Or take 4 KEYSIZE blocks instead of 2 and average the distances.\n",
    "        </p>\n",
    "    </b>\n",
    "</p>"
   ]
  },
  {
   "cell_type": "code",
   "execution_count": 153,
   "metadata": {},
   "outputs": [
    {
     "name": "stdout",
     "output_type": "stream",
     "text": [
      "[6.         2.5        2.         3.5        1.6        4.16666667\n",
      " 3.42857143 2.625      3.55555556 3.3        3.09090909 3.5\n",
      " 2.76923077 3.28571429 2.93333333 3.25       2.88235294 2.94444444\n",
      " 3.36842105 3.         2.71428571 3.40909091 3.39130435 3.33333333\n",
      " 3.36       3.61538462 3.40740741 3.53571429 3.27586207 3.5\n",
      " 3.22580645 3.5        3.39393939 3.44117647 3.42857143 3.52777778\n",
      " 3.10810811 3.07894737 3.25641026 3.25      ]\n",
      "3835\n"
     ]
    }
   ],
   "source": [
    "importlib.reload(crypto)\n",
    "\n",
    "\n",
    "data_str = \"\" \n",
    "\n",
    "for elem in data:\n",
    "    data_str += elem\n",
    "data_str = data_str[:-1]\n",
    "    \n",
    "challange_6_numeral = numeral.Numeral(value=data_str, base = 64)\n",
    "challange_6_numeral.Base16()\n",
    "\n",
    "challange_6 = crypto.Crypto(ciphertext = challange_6_numeral.value)\n",
    "\n",
    "challange_6_scores = challange_6.findKeysize()\n",
    "print(challange_6_scores)\n",
    "\n",
    "N = 3\n",
    "min_score_idx = np.array(challange_6_scores).argsort()[:N][::1]\n",
    "\n",
    "min_score_idx\n",
    "\n",
    "len(challange_6.value)\n",
    "print(len(data_str))"
   ]
  },
  {
   "cell_type": "markdown",
   "metadata": {},
   "source": [
    "<p style=\"color:royalblue; font-size:18px;\">\n",
    "    <b>\n",
    "        Finding the Key\n",
    "    </b>\n",
    "</p>\n",
    "\n",
    "<p style=\"color:block; font-size:14px;\">\n",
    "    <b>\n",
    "      <p> Now that you probably know the KEYSIZE: break the ciphertext into blocks of KEYSIZE length.</p>\n",
    "      <p>Now transpose the blocks: make a block that is the first byte of every block, and a block that is the second byte of every block, and so on. Solve each block as if it was single-character XOR. You already have code to do this.</p>\n",
    "    </b>\n",
    "</p>"
   ]
  },
  {
   "cell_type": "code",
   "execution_count": 154,
   "metadata": {},
   "outputs": [],
   "source": [
    "keysize_cand = min_score_idx[0] + 1\n",
    "blocksize = keysize_cand * 8\n",
    "bin_data = challange_6.value\n",
    "\n",
    "# Add 0's to the and of the data so that it is evenly divisible to KEYSIZE\n",
    "bin_data_size = len(bin_data)\n",
    "remainder = bin_data_size % (blocksize*5)\n",
    "for i in range(abs(blocksize - remainder)):\n",
    "    bin_data += \"0\"\n",
    "bin_data_size = len(bin_data)\n",
    "\n",
    "# Create number of numerals to hold each block\n",
    "numeral_objs = [numeral.Numeral(value=\"\", base=2) for i in range(keysize_cand)]\n",
    "\n",
    "# Break the ciphertext into blocks of KEYSIZE length.\n",
    "block_no = int(bin_data_size / blocksize)\n",
    "\n",
    "# In the first loop divide the data into (Keysize*8) bits\n",
    "for i in range(block_no):\n",
    "    dummy_block = bin_data[(i*blocksize):(i+1)*blocksize]\n",
    "    #In the second loop divide each block, and create a block of first, second, etc bytes\n",
    "    for j in range(keysize_cand):\n",
    "        dummy_chunk = dummy_block[(j*8):(j+1)*8]\n",
    "        numeral_objs[j].value = numeral_objs[j].value + dummy_chunk\n",
    "\n",
    "\n",
    "# Convert the numeral_objs to Base16\n",
    "for i in range(keysize_cand):\n",
    "    numeral_objs[i].Base16()"
   ]
  },
  {
   "cell_type": "code",
   "execution_count": 162,
   "metadata": {},
   "outputs": [
    {
     "name": "stdout",
     "output_type": "stream",
     "text": [
      "Key:  E  / Solution:  XJZ^EeCHI[T_XL&IELM'_1_>_DwCNnBBM\\S,GBDG^ryJEY!IKxHKNBNEZÈKÂCoBtOXVKNAY_MV)JiB\\^oGSMR EpDHSEEuo'%'TËCNRX UVk!0F×EOLLuÌCGBeXOCXdyTKIMtC^ARE_Cc^EMDR{xËsPBc@rCCVsXGÜmV\\^&%Hd_R^s^BOXT_XOEAdbJ~DX ¨Yáeead]YÈH-Uµ}Q}@ÁXEY5qmQI¸e9A`Ea%EEDaÙa(üí-hE,]y¤7ap]±`Ôu]E\\-uÅEYÝ50deA}\\=M!}w-AAðEah-=IEÙmPµq4E,|tHEELE aµÍE¥0-YDUUõa4U5,9)øqXÿ¡UQe-Y{LûyU±mia5@EqIAdMÉPÍu­h!)EQAéL7IíqlQMA<|}Tii1@hlQôxelQ,]Xu%TD}Ue4¥Õ½Es]es±aQe=5xIq5=íQaiéuh",
      "Au-AM`tea)]<p\n",
      "***\n",
      "Key:  E  / Solution:  G8DD[EÖMEE_e|_rH^AL:EHVBb<DIM cBCGUG@CHYOEIk'orBRF}BDÌ+_IB\"OÃgERDVSB{GZ\\DSLo_aLC,=bH~J^ÑcO]y@EMVC_bXEM:ÚhuYÁ\\]YEw&_[RHN[TOV'JsNyXKE=IEITX^BF_NkEtY\\T^TrLBVNS_eE[sJCXÊNIü_YDQq¨ $T)}mYuy8\\EQY1áyYE]õeY]A-)pu1IXE4wTÉDñ-}1Ypô]{,ÈqadQ»ð) Q|Xl5@mé°\\%a)¼{iM3u}Ex|ME¡5AAÍYµeEX 7,AThp]­E5 Y|exE]0EmA]Xa4%-mP`eEñDEÍÉA¬LÕéuQdaeuD,\\­alIXD]50õ|hAL5pø 05]°,Lae1íd|EpÐ`|Es]4A±P8a%)dQpY|8l5Íalð,iA1ED÷yel,ME@u}<QÿE¹ÅeEÀ1yE¬e]5,|Ü5M@A\\}É\n",
      "***\n",
      "Key:  e  / Solution:  zzyns$x+\"(w,AN<Rr1v7 #iíe{t<à6|cl$V`8B egeze'ugÜobucu:us(&%m1à|0Çr^d,S~apN,D`x*,vrè*e1+ ^c6h^n2bnnh,t,rt3xtzenm+cm5U++_j1>n#Oyxq1nebAeO2#i,zN0dÀ+h41* $ duze0[cd!o)+OajFOêej>qxdkv+&a:|+g dfdi\"1okc ynertnre[i,7x*jf?o2>5,x7N+XL-xhxl@\\xy6t>j!eõlA)hI0dM`ym¼`e`t}Ié¸%íq!5(eåi=Ì4qm9ÁUÐµ\\ADU\\yuÉ-)1ap)QXe0ayT,8©yLp95X9a¤Ía\\yå\\0iE)èep|H!@q}]qX¼eE)0)QiQ,,uÑ¡ôy9\\YU=)5AQhÍDm`A}¡xHµQU} qa}Ea(@UtY9xY}|,ø)õ(<)Y9\\¼EEt}5,ôp5qX9xe8E!Qlý8e-5[­×YELi]P!l]a@1-e58´]e% Yqaáeu,ÉD)ÕYlep$}Á)}¹a-iQ5°Aqd4i_eXéDXKu-4qùe\n",
      "***\n",
      "Key:  e  / Solution:  (êkb ,81\"Y)etCC$Uo-Zcbxcxdgev-adebqSj+7=*ne7ìdupzUdl6`*\"Q6t*J+x;d6cxo'$QcdbyO| 6I,ev axÜ^1ì\\de0t%l$[i-e~Ub f8*,c-/i7.oSe 71a'MI>Tdr1>o1nb6ve ,bt&~Ej4ce-g~Kv3+k6mx0w$aoN*B_n+vd*j[`hr1fee5yêkOecnÇ6y+e{tst@N,,;rxfflbâ0`cOeg\"+eB' kRh\"cn18bhf(*;{eU_exe}\\=øEõÕy[-)}q`ÄAEy<y´DieATñp]­eíÈ¹SyA5@Aye 5Qp5Ð\\%e`qaýé}=I )iy((AKT¼5MqA1X tL9}!xyýy)aE8ø,\\µ8pxtmuÉÌE|$mq`4MxIeq,!_H±Me)yYA,¸|tA!0QX5|\\aé|Éu× ]u-aEaPAÍ8`4D)u]qÐ5PEp9í9`L] YaÈè,,ÉD)PymdAM@I¸I- hÙq}E}-PA)P\\a@1ý}Ô4}]eH}M4E)[Ø QñexUa$\\iDHÍí5<Ue\n",
      "***\n",
      "Key:  E  / Solution:  NV r!YAILd@ABCX@MS@/JNPSNÃ=AUXKuGNÊ,LM9^_1GNRÊmW<DI@gMkKCBBcEC2XPErOBB_YNEm,LHæ`bENgË^NGiXLEES]EGESRXEIa_XPDJqIH^7OnEkR_XwGq_SDGyXN9!_RL]oEOX'É6nPSHîd@]EX!Y^bCYHGER_KNI=@BZURUT ÍEOoX#E!Y©!Ø©}EÍ1Ýuy -qMQ½x0pyEaATaÐE=||)AXIe=a1}ÈYl5AYEAØÑa]Aü1mQ¥`q-%)ITAEMpDULE1EEµTy1PIdlEdEPa]Ø--µE}Ðu¡PeD09QMXtx|iíQ}\\ÍE0Ia08U}¬paðiÔ}PulDDahy@ÙIlÁÍe])H`¬0-\\,mPM3y@PÕU4",
      "¡]Ä,A)EQA¹aeu]l¡D|A`}èñx-ðÕEp]QT=e!½)AT8Q-pXEAÈii1©Dq?m¸!h1hxQlàUuYÌ}¤Yy9$lQd1|aE\n",
      "***\n"
     ]
    }
   ],
   "source": [
    "importlib.reload(crypto)\n",
    "\n",
    "\n",
    "# Solve each block / Create KEYSIZE crypto instances for each block with the numeral_objs\n",
    "crypto_objs = [crypto.Crypto(ciphertext=numeral_objs[i].value) for i in range(keysize_cand)]\n",
    "\n",
    "\n",
    "len(crypto_objs[0].value)\n",
    "\n",
    "for i in range(keysize_cand):\n",
    "    crypto_objs[i].decipherSingleByteXOR(print_sln=True, N=1)\n",
    "    print(\"***\")"
   ]
  },
  {
   "cell_type": "code",
   "execution_count": 176,
   "metadata": {},
   "outputs": [
    {
     "name": "stdout",
     "output_type": "stream",
     "text": [
      "X\u0007z(NJGzêV\u001b8\f",
      " Z\u001c",
      "yk\u000b",
      "\u0016Dnb\u000b",
      "^Ds rE[$,!e\u0011x8\u0006\u0006\u0016+\u0000\u0017CE\"1YH\u0000(\"AIÖwYI[M,LT\n",
      "A)d_\u0002Ne@X\u0002<tALE\u0001CB&ERCCI_r$X\u0004\u00171U\u001aEevo@\u0002\u001a7-M\u0000\u000b",
      "\u0000ZSL| c@M_#b\u001a\u001a\u001c",
      "\u001d",
      "\u001a/'rix\n",
      "\u0004Híc\u0010_^ex\u00071A{d\f",
      "_Ltg\u0017>:<e\r",
      "Ev\f",
      "_\n",
      "à-J\u0018H6aD\u0017|dN\u0004Vce\tw\u001a\u0006\u0007PCBlb\u0011Nb$qS\f",
      "<VSNnD`jÃB\u001a8+=\u000b",
      "\r",
      "B7ABI =\r",
      "M\u0004e*U\u0011M\u0011nX\\\f",
      "geKS\u0019e7u, zìGG\u0011edNB\u001b'u\u0016Dcup\bGBgzÊ^\u001bÜU,r\u0017odL\u0011Cbl\u0016\u000b",
      "Gu6MyUc`\f",
      "J\n",
      "u*9E:\"^Y\f",
      "\u0001Q\n",
      "!Gu6_\n",
      "@st1IC(*GK\u0006&\u0007\tx\u000b",
      "%JN\f",
      "Hm+RH\u00101xÊKYà;mN\b|dWBO06<\u000b",
      "\n",
      "ÇcDN\u0002\u0006xIEEro@ZI^'\u001bÈkd$gK\u0019,Q\u0013\u0004'Sc\n",
      "Âo\u001b\u0019M\n",
      "\u0004~d\u0016\u0007rabk\t\u000b",
      "pyKCBNO\u0011oR,|C\u001c",
      "\u0011D \u0012BF`6Bt\u0000\u001c",
      "IBO\u0004x,\u0017\u001c",
      "}*ecXB,vEVDv \u000b",
      "KÌraN+èxCA_*Ü2\u0005\u0006e^XY\u000b",
      "11P_I+ì\n",
      "MB \\E\u0017\"^d\u0004VOcer)Ã\u00070OJg6t\r",
      "iEh%BBR^l\u0017\\Dn$B^V2[_oSiYGBb-N\n",
      "\u000b",
      "neES{n\u0000\bMGh~mR\u0001\u001d",
      "U, Z,bLE\\t \n",
      "\u001c",
      "D,fHpSr8æLt*`\f",
      "o3,bD\f",
      "xcEH\r",
      "t-NS\f",
      "z/gE\u0017eiËE_n7\u0011u\u001e",
      "\u0001\u0007^o\u000b",
      "m.\u0011'a+o\n",
      "%\u0016cSN'LmeGT\n",
      "5 iË\u0000U7XCC+1LN,+aER\u0000_'\u0017X\u0000jM\u0011 =\u0011I\u001e",
      "\u0002b\u0007>\u000b",
      "\u000fH1TE\u0004\u000b",
      ">dS\u0000~nr\bUJ#1]V\u001b\u0012>Ek^OG\u000b",
      "ÑyoE!cx1S0Oqn\f",
      "F]1bR\u0004y6X×@nvEEEeeIOMb aLVA,_LCeb\u0002u_OtXÌb2&PC\u0000#~DG\u0016iE\u0000BX,jJe\n",
      "z4q\u001aENc\f",
      "XM0I\u0000\u0002deH\u0016:À-\u0005\u0005\u001f+\u001c",
      "^\u001aÚh\u001d",
      "7\u000b",
      "h4g\u000b",
      "\r",
      "\u000b",
      "1~O\b\u000e*K\u0019Ou \u001d",
      "nCY$vEXÁ\u001d",
      "3\u0010d\\ +k\u0005]dk\u0000\u000b",
      "\u0007u6RyYzm_\u000b",
      "EexX\u0006w00w\u0017&[w\u0015T_c$GK\n",
      "daqI[!_MRoo\u0015t\u001e",
      ")NSCH+*D^\u0000OB\r",
      "A\u0016a_\u0000RNjnGE\n",
      "F+y_\u0011OvX\u000b",
      "[êd\r",
      "C\u0004e*NcT\u0011\n",
      "9\bOjj!^V>[_\u0004'q`R\u0002\u0012xLEJdh\u0016Mskr\bDNv1]R\u0011\u0013o\r",
      "y+f\u0002\tX&eE{KaeO\u0000:5\f",
      "xE|yXË=+ê'sIgkÉPE OBIde6c\u0017fc\u000b",
      "@Tdn\u001c",
      "rXiÇnC^\"6PC\u00001yS\f",
      "Bo\u0010HVFk+îs_ced\u0010\u0010\u0000{@\u000b",
      "\t t]\u0000\u0011ysEX\u0007\u0011tX\b\u000b",
      "n@\u0011GNeN\u001bÜkr,!m\u0013t\u0000\u0004En,YVtr;\b\\Yer^^\u0016[\b&\\ix\u0002%Tf\u0000H^,\u001c",
      "bdT7fC_\u0004xl\u0017\u001c",
      "r*b\u0005R\f",
      "jâ\t^Lf0Y\u0004\f",
      "\u001f\n",
      "H\u000fB?`G\u0004VocEs\u00102OR^N>e_B\u00005gKOS,\u0011NX\bx\"IT\u00067+=_\u0002Ne@X\u0002BBO\u000b",
      "+'\u0001\u0016_X Z\u0011\f",
      "LkU\u0006\u0017-R\u0012\u0000exhR\u000eEh\"UE[xcTAsln\u0018\tJ@1 d\u0015\\8ÍbCxb\u0012\u0012XyhEJÊfO~N6(oDIt*X\u000b",
      "ü>;#\u0017_j{EXY!e! De¨QõUYYq\u0005_\f",
      "á¨\u0019e©\u0019 lx!\u0001$AeØeT)}©e)h\\}a\u0011\u0011=E\bIøÍd}0E1]mdõÝYYMÕu\u0001u\u0010yyÈy`[ H8---\\y)q\u0019Em}M\u001c",
      "Q¼qQUY``½µ1eÄx}á`A0\bytE\u0000\r",
      "\u0019}y\u0014QI<p}Yé\u0004y@\u0015¸\r",
      "EÁE%yaX\u0014í´AE]q\u0018Tõ!DaY\f",
      "5\u0015\u00185(\u001fÐ\r",
      "eeiEqYåe=m]iAQ\t\u0019T|IA=\b|¸-Ìñe)4p\u00159p\u0000])A\u001c",
      "q­\u0019\u0019um\u0010A\u001119e\u0010IÁ\tX`XU\u0011IEEÐ\u0011ea4µí=%w\\ÈaETA¹1EÉ\u0015S}D\r",
      "\tyÈaDDAYÙñU\u0015la-\\55(}\f",
      "Aü1y@YíuAE-YÉ\u0015\u0005p-\u0001Ah\u0001)yØ\u0015ô1eÑE]a a,{p5]],)Q\u0019\u0018Q\r",
      "AyÈXü¤qe17a0p\u0015ada5mp\tyÐQ]QT\\¥±»,%`\t8\u0014`Ôð©eq\u0010\u0005y`\t\u001d",
      "q-u)La%] p)EQ9\tI\\|5ýT-XXé\u0005\u00019}Aula=\u001c",
      "\f",
      "\u0015¤\u0019EÅ\tÍI\u0015E5a \u0015Y@\\)MÝmyipéåy\u0018\r",
      "°\u0010(5\\\\(\r",
      "0%0ADda\u0015KUe)iTLA¼E\u0018E{)¼\r",
      "}iè51\\MeME=3p\u001d",
      "Mu\tqE!}|Aµ\u001d",
      "EH1T}x!\r",
      "yw|@X1-M \r",
      "AEqt\u0015\f",
      "}\u0014A\tLð¡\t\u0010P\u00155]\u0001IEq\u0019daAX9l\f",
      "A¼\u001c",
      "EhÍ\u0011}d\u0011\te!E-YExP=µ\u0011\u0004aIe)y]E\býØ\r",
      "E\f",
      "y-ÙX0)-m )aµ\r",
      "7QEEP\u0015i8}µ,Qø\r",
      "\u0005A,,\u0015qT,\\Ðh\u0014µu4pu8\u0001E]\u001bp¡,­ÑxP|E\u0000tet\b\u001c",
      "m\u0004\t5¡uDH ôÉ0EYyÌ9E9EQL|\u0011|MEe\\\r",
      "X taxY$xµE\b|Í]UmiE0\u0014qí¥E\u0015`Qm=4}0A)M\\\u00155xÍ-]\f",
      "IEYXAe0DaqU4Q\r",
      "IU%h,aõ-Í!0amD_\t4PmH8U\r",
      "`±U5`AM},e}e¬9E¡)pñxya\u0004\tHYð)DµAiøEQ,\u0015q\u0018U¸ÔXÍ}|}ÿÉ tP¡A\f",
      "A\u0005U¬q!uQLa\u0001l\f",
      "Õ\u001d",
      "Deé}\bD\r",
      "\u0000E0a-ua\r",
      "hQ(QyY\u0010\u0004X@{d@5ÙLaU|Iûet\\lyu\u0011aÁ\u0019\u0018\u0013éÍUDY|e±,9É]m\\xu)i\u0000Y×Ha­} `\r",
      "a|]\u00115l,u¬\u0014Iø-0@X)a-EDõ\\\t]E\u0018q5\u001fa\u0019I0(P,Aõ<Amd|)\u0014PMhYÍM\u0005983É\\`yPA¼4@Í\u0005E\r",
      "\bu\u0000EDPLt)Õ­5}uUhp5]4!ø,q",
      "\u0018 ôÐ¡)0p5]E55PÄQ]qE,A°XpAé,99\tLLxí)\u0000ae9E7\u00158`Q\u001d",
      "eELAI1\u0013]¹íí!\u0013aqdQ el|lYuQEý\u0015\u0005Mp8a\u0011A\u001d",
      "eÈ\b<Ð-\u0010]|\b5\tl}`[è¡\u0014,DT|­\u0005|iE×,A\r",
      "YÉ`isED\u00111]L)4\u001c",
      "P}@Aiyè\u0015±\f",
      "mñhP]dx\u00158PA-la!MðQ\u0011l@Õ\u0001%]IEô\f",
      "a¸\r",
      "x)@Iped1\u0011]l\t-QQQe\r",
      "T\u0015p\u0010\u0000,Y\u0013-=]|5 eX88h!\u0015l´Ù½u\u0004]q)%5e\u0014TÍ%}ADa ET}lY\u00018Uðq}Qe,a--4iá\f",
      "p¥AePXÕ1uAE\u0019E\u0014)A½D\u0017PÈ\u0005\\iE÷,a\r",
      "yÉ@iseD11]l)ý©e\u0018\u0010}Ds\u0015Õ\u0013q±,YÔ?aMl4\u0015QEe}me@p\u001d",
      "=u$]\u00115}}e¸x<ÁH!I\f",
      ")\u0011h\u0010\u0019}}1\u001c",
      "Q¹Mhq\u0005a4\u00155\b\u0000\b\u0014ÿ-\r",
      "x=E\u0010\u0014Qí¹iElQÅQ)àae5\r",
      "UiE°[\téÀAØ\u0018u1\u0015 uhyq\u0015\u0005",
      "EdQYA\u001c",
      "4ñÌu¬ie-e\f",
      "x\u001d",
      "A]_\u0000}M5eU¤`\r",
      "\r",
      "aY\u0011\u0000X$y\u0001,é\u00109t|D\\$eÜXila5KDQMuH\u0001)@-Íd\u001c",
      "Aí1]\\45|\u0004}q<a<\u0005ùU\u0000pÉ\n"
     ]
    }
   ],
   "source": [
    "challange_6_key = \"EEeeE\"\n",
    "\n",
    "ciphertext_6 = data_str\n",
    "\n",
    "\n",
    "challange_6_v2 = crypto.Crypto(ciphertext=ciphertext_6)\n",
    "challange_6_v2.base = 64\n",
    "challange_6_v2.Base16()\n",
    "\n",
    "\n",
    "# # a = challange_5.encodeRepeatingByteXOR(key)\n",
    "# # print(a == cipher_5)\n",
    "\n",
    "b = challange_6_v2.decodeRepeatingByteXOR(challange_6_key)\n",
    "print(b)\n",
    "\n"
   ]
  }
 ],
 "metadata": {
  "kernelspec": {
   "display_name": "Python 3",
   "language": "python",
   "name": "python3"
  },
  "language_info": {
   "codemirror_mode": {
    "name": "ipython",
    "version": 3
   },
   "file_extension": ".py",
   "mimetype": "text/x-python",
   "name": "python",
   "nbconvert_exporter": "python",
   "pygments_lexer": "ipython3",
   "version": "3.7.2"
  }
 },
 "nbformat": 4,
 "nbformat_minor": 2
}
