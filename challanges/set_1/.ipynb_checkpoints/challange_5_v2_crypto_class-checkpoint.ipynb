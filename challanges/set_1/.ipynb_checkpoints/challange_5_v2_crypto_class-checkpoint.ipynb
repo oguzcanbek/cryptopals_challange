{
 "cells": [
  {
   "cell_type": "code",
   "execution_count": 3,
   "metadata": {},
   "outputs": [
    {
     "data": {
      "text/plain": [
       "<module 'libraries.numeral' from 'C:\\\\Users\\\\Oguz\\\\Desktop\\\\Cryptopals Challange\\\\libraries\\\\numeral.py'>"
      ]
     },
     "execution_count": 3,
     "metadata": {},
     "output_type": "execute_result"
    }
   ],
   "source": [
    "import os\n",
    "import sys\n",
    "module_path = os.path.abspath(os.path.join('..'))\n",
    "if module_path not in sys.path:\n",
    "    sys.path.append(module_path)\n",
    "    \n",
    "import binascii\n",
    "import numpy as np\n",
    "import importlib\n",
    "from libraries import crypto\n",
    "from libraries import numeral\n",
    "\n",
    "importlib.reload(crypto)\n",
    "importlib.reload(numeral)"
   ]
  },
  {
   "cell_type": "markdown",
   "metadata": {},
   "source": [
    "<p style=\"color:royalblue; font-size:18px;\">\n",
    "    <b>\n",
    "        Checking the Crypto Library with the Challange 3\n",
    "    </b>\n",
    "</p>"
   ]
  },
  {
   "cell_type": "code",
   "execution_count": 7,
   "metadata": {},
   "outputs": [
    {
     "name": "stdout",
     "output_type": "stream",
     "text": [
      "Cooking MC's like a pound of bacon\n",
      "Key:  X  / Solution:  Cooking MC's like a pound of bacon\n",
      "Key:  _  / Solution:  Dhhlni`'JD t'knlb'f'whric'ha'efdhi\n",
      "Key:  r  / Solution:  iEEACDMgiYFCAOKZE_DNELHKIED\n",
      "True\n"
     ]
    }
   ],
   "source": [
    "importlib.reload(crypto)\n",
    "\n",
    "cipher_1 = \"1b37373331363f78151b7f2b783431333d78397828372d363c78373e783a393b3736\"\n",
    "plaintext_1 = \"Cooking MC's like a pound of bacon\"\n",
    "\n",
    "key = \"X\"\n",
    "\n",
    "challange_3 = crypto.Crypto(ciphertext=cipher_1)\n",
    "\n",
    "a = challange_3.decodeSingleByteXOR(key)\n",
    "print(a)\n",
    "\n",
    "# b = challange_3.encodeSingleByteXOR(key)\n",
    "# print(b)\n",
    "\n",
    "\n",
    "c = challange_3.decipherSingleByteXOR(print_sln=True)\n",
    "\n",
    "print(isinstance(challange_3, crypto.Crypto))"
   ]
  },
  {
   "cell_type": "markdown",
   "metadata": {},
   "source": [
    "<p style=\"color:royalblue; font-size:18px;\">\n",
    "    <b>\n",
    "        Checking the Crypto Library with the Challange 4 & Loading the data\n",
    "    </b>\n",
    "</p>"
   ]
  },
  {
   "cell_type": "code",
   "execution_count": 8,
   "metadata": {},
   "outputs": [
    {
     "name": "stdout",
     "output_type": "stream",
     "text": [
      "Data length is 327\n",
      "String:  0e3647e8592d35514a081243582536ed3de6734059001e3f535ce6271032\n",
      "Length:  60\n"
     ]
    },
    {
     "data": {
      "text/plain": [
       "'2'"
      ]
     },
     "execution_count": 8,
     "metadata": {},
     "output_type": "execute_result"
    }
   ],
   "source": [
    "challange_data_addr = \"C:\\\\Users\\\\Oguz\\\\Desktop\\\\Cryptopals Challange\\\\challanges\\\\challange_4.txt\"\n",
    "data = np.loadtxt(challange_data_addr, dtype='str')\n",
    "print(\"Data length is\", len(data))\n",
    "first_string = data[0]\n",
    "first_string_len = len(first_string)\n",
    "print(\"String: \", first_string)\n",
    "print(\"Length: \", first_string_len)\n",
    "first_string[-1]"
   ]
  },
  {
   "cell_type": "code",
   "execution_count": 9,
   "metadata": {},
   "outputs": [
    {
     "name": "stdout",
     "output_type": "stream",
     "text": [
      "True\n"
     ]
    },
    {
     "data": {
      "text/plain": [
       "array([2.18160845e+09, 9.96005960e+08, 1.82388626e+09, ...,\n",
       "       1.29744530e+09, 2.53802376e+09, 2.67794915e+09])"
      ]
     },
     "execution_count": 9,
     "metadata": {},
     "output_type": "execute_result"
    }
   ],
   "source": [
    "importlib.reload(crypto)\n",
    "from string import printable\n",
    "\n",
    "# Create the score array & the challange crypto object\n",
    "keychain_length = len(printable)\n",
    "total_scores = np.zeros(327*keychain_length)\n",
    "\n",
    "\n",
    "for idx, test in enumerate(data):\n",
    "    challange_4 = crypto.Crypto(ciphertext=data[idx])\n",
    "    \n",
    "    score_array = challange_4.decipherSingleByteXOR()\n",
    "    \n",
    "    total_scores[idx*keychain_length:(idx+1)*keychain_length] = score_array\n",
    "#     print(\"***///***\")\n",
    "\n",
    "print(isinstance(challange_4, crypto.Crypto))\n",
    "\n",
    "total_scores"
   ]
  },
  {
   "cell_type": "code",
   "execution_count": 13,
   "metadata": {},
   "outputs": [
    {
     "name": "stdout",
     "output_type": "stream",
     "text": [
      "[17005 10292]\n",
      "7851627010.0\n",
      "Highest index is  17005\n",
      "Remainder is  5\n",
      "Line is  170\n",
      "Key:  5  / Solution:  Now that the party is jumping\n",
      "Key:  a  / Solution:  ;#t <5 t <1t$5& -t='t>!9$=:3^\n",
      "Key:  \t  / Solution:  rSKHT]HHTYL]NHEUOVIQLUR[6\n",
      "**\n",
      "4514180325.0\n",
      "Highest index is  10292\n",
      "Remainder is  92\n",
      "Line is  102\n",
      "Key:  }  / Solution:  VD p | <N \\XpC@?hPB(c9_X P\n",
      "Key:  d  / Solution:  O]9i9e9%W9EAiZY&qI[1z FA9I\n",
      "Key:  D  / Solution:  o}IEweaI§zyQi{9Z ªfai\n",
      "**\n"
     ]
    }
   ],
   "source": [
    "first_n = 2\n",
    "\n",
    "highest_idx = np.array(total_scores).argsort()[-first_n:][::-1]\n",
    "\n",
    "print(highest_idx)\n",
    "\n",
    "for i in range(first_n):\n",
    "    \n",
    "    current_idx = highest_idx[i]\n",
    "    print(total_scores[current_idx])\n",
    "    \n",
    "    print(\"Highest index is \", highest_idx[i])\n",
    "\n",
    "    remain = np.remainder(highest_idx[i], keychain_length)\n",
    "    print(\"Remainder is \", remain)\n",
    "\n",
    "    data_idx = int((highest_idx[i] - remain) / keychain_length)   \n",
    "    print(\"Line is \", data_idx)\n",
    "    prob_data = data[data_idx]\n",
    "\n",
    "    challange_4.value = prob_data\n",
    "    challange_4.base = 16\n",
    "    challange_4.decipherSingleByteXOR(print_sln=True)\n",
    "    \n",
    "    print(\"**\")"
   ]
  },
  {
   "cell_type": "markdown",
   "metadata": {},
   "source": [
    "<p style=\"color:royalblue; font-size:18px;\">\n",
    "    <b>\n",
    "        Checking the Crypto Library with the Challange 5\n",
    "    </b>\n",
    "</p>"
   ]
  },
  {
   "cell_type": "code",
   "execution_count": 14,
   "metadata": {},
   "outputs": [
    {
     "name": "stdout",
     "output_type": "stream",
     "text": [
      "Burning 'em, if you ain't quick and nimble\n",
      "I go crazy when I hear a cymbal\n",
      "True\n"
     ]
    }
   ],
   "source": [
    "importlib.reload(crypto)\n",
    "\n",
    "ciphertext_5 = \"0b3637272a2b2e63622c2e69692a23693a2a3c6324202d623d63343c2a26226324272765272a282b2f20430a652e2c652a3124333a653e2b2027630c692b20283165286326302e27282f\"\n",
    "plaintext_5 = \"Burning 'em, if you ain't quick and nimble\\nI go crazy when I hear a cymbal\"\n",
    "\n",
    "key = \"ICE\"\n",
    "\n",
    "challange_5 = crypto.Crypto(ciphertext=ciphertext_5)\n",
    "\n",
    "# a = challange_5.encodeRepeatingByteXOR(key)\n",
    "# print(a == cipher_5)\n",
    "\n",
    "b = challange_5.decodeRepeatingByteXOR(key)\n",
    "print(b)\n",
    "\n",
    "print(isinstance(challange_5, crypto.Crypto))\n"
   ]
  }
 ],
 "metadata": {
  "kernelspec": {
   "display_name": "Python 3",
   "language": "python",
   "name": "python3"
  },
  "language_info": {
   "codemirror_mode": {
    "name": "ipython",
    "version": 3
   },
   "file_extension": ".py",
   "mimetype": "text/x-python",
   "name": "python",
   "nbconvert_exporter": "python",
   "pygments_lexer": "ipython3",
   "version": "3.7.2"
  }
 },
 "nbformat": 4,
 "nbformat_minor": 2
}
