{
 "cells": [
  {
   "cell_type": "code",
   "execution_count": 51,
   "metadata": {},
   "outputs": [
    {
     "data": {
      "text/plain": [
       "<module 'libraries.numeral' from 'C:\\\\Users\\\\Oguz\\\\Desktop\\\\Cryptopals Challange\\\\libraries\\\\numeral.py'>"
      ]
     },
     "execution_count": 51,
     "metadata": {},
     "output_type": "execute_result"
    }
   ],
   "source": [
    "import os\n",
    "import sys\n",
    "module_path = os.path.abspath(os.path.join('..'))\n",
    "if module_path not in sys.path:\n",
    "    sys.path.append(module_path)\n",
    "    \n",
    "import binascii\n",
    "import numpy as np\n",
    "import importlib\n",
    "from libraries import crypto\n",
    "from libraries import numeral\n",
    "\n",
    "importlib.reload(crypto)\n",
    "importlib.reload(numeral)"
   ]
  },
  {
   "cell_type": "markdown",
   "metadata": {},
   "source": [
    "<p style=\"color:royalblue; font-size:18px;\">\n",
    "    <b>\n",
    "        Checking the Crypto Library with the previous Challange\n",
    "    </b>\n",
    "</p>"
   ]
  },
  {
   "cell_type": "code",
   "execution_count": 52,
   "metadata": {},
   "outputs": [
    {
     "name": "stdout",
     "output_type": "stream",
     "text": [
      "68\n",
      "Key:  X  / Solution:  Cooking MC's like a pound of bacon\n",
      "Key:  _  / Solution:  Dhhlni`'JD t'knlb'f'whric'ha'efdhi\n",
      "Key:  r  / Solution:  iEEACDMgiYFCAOKZE_DNELHKIED\n"
     ]
    },
    {
     "data": {
      "text/plain": [
       "array([1.39730792e+09, 1.50325722e+09, 1.06545860e+08, 2.63768360e+08,\n",
       "       7.78679480e+08, 1.18152438e+09, 1.50073929e+09, 1.60757675e+09,\n",
       "       6.15497360e+07, 1.56314071e+09, 1.57512122e+09, 2.42534852e+09,\n",
       "       2.76741860e+09, 2.55664680e+09, 2.75438690e+09, 1.26573458e+09,\n",
       "       1.72971082e+09, 1.84100739e+09, 1.77925631e+09, 1.40579708e+09,\n",
       "       1.17966573e+09, 1.37126513e+09, 1.70603802e+09, 1.98362476e+09,\n",
       "       1.88714950e+09, 2.87180946e+09, 2.30988171e+09, 4.74619318e+09,\n",
       "       3.53694312e+09, 3.27031163e+09, 2.71264586e+09, 3.54502765e+09,\n",
       "       2.61110668e+09, 4.28635708e+09, 3.73288632e+09, 3.52261218e+09,\n",
       "       1.57512122e+09, 2.42534852e+09, 2.76741860e+09, 2.55664680e+09,\n",
       "       2.75438690e+09, 1.26573458e+09, 1.72971082e+09, 1.84100739e+09,\n",
       "       1.77925631e+09, 1.40579708e+09, 1.17966573e+09, 1.37126513e+09,\n",
       "       1.70603802e+09, 1.98362476e+09, 1.88714950e+09, 2.87180946e+09,\n",
       "       2.30988171e+09, 4.74619318e+09, 3.53694312e+09, 3.27031163e+09,\n",
       "       2.71264586e+09, 3.54502765e+09, 2.61110668e+09, 8.48635708e+09,\n",
       "       3.73288632e+09, 3.52261218e+09, 3.54064176e+08, 1.47389700e+07,\n",
       "       0.00000000e+00, 0.00000000e+00, 2.45649500e+06, 5.90106960e+07,\n",
       "       5.57407700e+06, 4.03548489e+08, 5.23752190e+07, 1.19816415e+09,\n",
       "       1.46310764e+09, 1.88908161e+09, 7.14308347e+08, 1.86506984e+08,\n",
       "       4.70160704e+08, 6.76438737e+08, 2.01381672e+09, 8.84229416e+08,\n",
       "       2.39004494e+09, 6.86165306e+08, 3.69298416e+08, 1.62457976e+09,\n",
       "       3.00021188e+09, 2.93629146e+09, 2.27939796e+09, 4.43261166e+09,\n",
       "       4.87108702e+09, 1.62457976e+09, 3.00021188e+09, 2.93629146e+09,\n",
       "       2.27939796e+09, 4.43261166e+09, 3.34444620e+07, 5.23752190e+07,\n",
       "       1.19816415e+09, 1.41430835e+09, 2.16310764e+09, 1.88908161e+09])"
      ]
     },
     "execution_count": 52,
     "metadata": {},
     "output_type": "execute_result"
    }
   ],
   "source": [
    "### CHALLANGE 3 ###\n",
    "\n",
    "cipher = numeral.Numeral()\n",
    "# plaintext = numeral.Numeral()\n",
    "\n",
    "cipher.value = \"1b37373331363f78151b7f2b783431333d78397828372d363c78373e783a393b3736\"\n",
    "cipher.base = 16\n",
    "\n",
    "print(len(cipher.value))\n",
    "\n",
    "crypto_obj = crypto.Crypto()\n",
    "\n",
    "crypto_obj.decipherSingleByteXOR(cipher, print_sln=True)"
   ]
  },
  {
   "cell_type": "markdown",
   "metadata": {},
   "source": [
    "<p style=\"color:royalblue; font-size:18px;\">\n",
    "    <b>\n",
    "        Load the challange data of 60-character strings\n",
    "    </b>\n",
    "</p>"
   ]
  },
  {
   "cell_type": "code",
   "execution_count": 53,
   "metadata": {},
   "outputs": [
    {
     "name": "stdout",
     "output_type": "stream",
     "text": [
      "Data length is 327\n",
      "String:  0e3647e8592d35514a081243582536ed3de6734059001e3f535ce6271032\n",
      "Length:  60\n"
     ]
    },
    {
     "data": {
      "text/plain": [
       "'2'"
      ]
     },
     "execution_count": 53,
     "metadata": {},
     "output_type": "execute_result"
    }
   ],
   "source": [
    "challange_data_addr = \"C:\\\\Users\\\\Oguz\\\\Desktop\\\\Cryptopals Challange\\\\challanges\\\\challange_4.txt\"\n",
    "data = np.loadtxt(challange_data_addr, dtype='str')\n",
    "print(\"Data length is\", len(data))\n",
    "first_string = data[0]\n",
    "first_string_len = len(first_string)\n",
    "print(\"String: \", first_string)\n",
    "print(\"Length: \", first_string_len)\n",
    "first_string[-1]"
   ]
  },
  {
   "cell_type": "markdown",
   "metadata": {},
   "source": [
    "<p style=\"color:royalblue; font-size:18px;\">\n",
    "    <b>\n",
    "        Try every string\n",
    "    </b>\n",
    "</p>"
   ]
  },
  {
   "cell_type": "code",
   "execution_count": 56,
   "metadata": {
    "scrolled": true
   },
   "outputs": [
    {
     "data": {
      "text/plain": [
       "array([2.18160845e+09, 9.96005960e+08, 1.82388626e+09, ...,\n",
       "       1.29744530e+09, 2.53802376e+09, 2.67794915e+09])"
      ]
     },
     "execution_count": 56,
     "metadata": {},
     "output_type": "execute_result"
    }
   ],
   "source": [
    "from string import printable\n",
    "\n",
    "keychain_length = len(printable)\n",
    "\n",
    "\n",
    "crypto_obj = crypto.Crypto()\n",
    "cipher_text = numeral.Numeral()\n",
    "\n",
    "total_scores = np.zeros(327*keychain_length)\n",
    "\n",
    "for idx, test in enumerate(data):\n",
    "    cipher_text.value = data[idx]\n",
    "    cipher_text.base = 16\n",
    "    \n",
    "    score_array = crypto_obj.decipherSingleByteXOR(cipher_text)\n",
    "    \n",
    "    total_scores[idx*keychain_length:(idx+1)*keychain_length] = score_array\n",
    "#     print(\"***///***\")\n",
    "\n",
    "\n",
    "total_scores"
   ]
  },
  {
   "cell_type": "code",
   "execution_count": 58,
   "metadata": {
    "scrolled": false
   },
   "outputs": [
    {
     "name": "stdout",
     "output_type": "stream",
     "text": [
      "[17005 10292]\n",
      "Highest index is  17005\n",
      "Remainder is  5\n",
      "Line is  170\n",
      "Key:  5  / Solution:  Now that the party is jumping\n",
      "Key:  a  / Solution:  ;#t <5 t <1t$5& -t='t>!9$=:3^\n",
      "Key:  \t  / Solution:  rSKHT]HHTYL]NHEUOVIQLUR[6\n",
      "**\n",
      "Highest index is  10292\n",
      "Remainder is  92\n",
      "Line is  102\n",
      "Key:  }  / Solution:  VD p | <N \\XpC@?hPB(c9_X P\n",
      "Key:  d  / Solution:  O]9i9e9%W9EAiZY&qI[1z FA9I\n",
      "Key:  D  / Solution:  o}IEweaI§zyQi{9Z ªfai\n",
      "**\n"
     ]
    }
   ],
   "source": [
    "first_n = 2\n",
    "\n",
    "highest_idx = np.array(total_scores).argsort()[-first_n:][::-1]\n",
    "\n",
    "print(highest_idx)\n",
    "\n",
    "for i in range(first_n):\n",
    "    print(\"Highest index is \", highest_idx[i])\n",
    "\n",
    "    remain = np.remainder(highest_idx[i], keychain_length)\n",
    "    print(\"Remainder is \", remain)\n",
    "\n",
    "    data_idx = int((highest_idx[i] - remain) / keychain_length)\n",
    "    print(\"Line is \", data_idx)\n",
    "    prob_data = data[data_idx]\n",
    "\n",
    "    cipher.value = prob_data\n",
    "    cipher.base = 16\n",
    "\n",
    "    crypto_obj.decipherSingleByteXOR(cipher, print_sln=True)\n",
    "    \n",
    "    print(\"**\")"
   ]
  }
 ],
 "metadata": {
  "kernelspec": {
   "display_name": "Python 3",
   "language": "python",
   "name": "python3"
  },
  "language_info": {
   "codemirror_mode": {
    "name": "ipython",
    "version": 3
   },
   "file_extension": ".py",
   "mimetype": "text/x-python",
   "name": "python",
   "nbconvert_exporter": "python",
   "pygments_lexer": "ipython3",
   "version": "3.7.2"
  }
 },
 "nbformat": 4,
 "nbformat_minor": 2
}
