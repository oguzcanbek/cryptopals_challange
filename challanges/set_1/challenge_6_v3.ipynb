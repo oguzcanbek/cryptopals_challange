{
 "cells": [
  {
   "cell_type": "code",
   "execution_count": 1,
   "metadata": {},
   "outputs": [
    {
     "name": "stdout",
     "output_type": "stream",
     "text": [
      "C:\\Users\\Oguz\\Desktop\\Cryptopals Challange\n"
     ]
    },
    {
     "data": {
      "text/plain": [
       "<module 'libraries.numeral' from 'C:\\\\Users\\\\Oguz\\\\Desktop\\\\Cryptopals Challange\\\\libraries\\\\numeral.py'>"
      ]
     },
     "execution_count": 1,
     "metadata": {},
     "output_type": "execute_result"
    }
   ],
   "source": [
    "import os\n",
    "import sys\n",
    "module_path = os.path.abspath(os.path.join('..\\..'))\n",
    "if module_path not in sys.path:\n",
    "    sys.path.append(module_path)\n",
    "    \n",
    "import binascii\n",
    "import math\n",
    "import numpy as np\n",
    "import importlib\n",
    "print(module_path)\n",
    "\n",
    "from libraries import crypto\n",
    "from libraries import numeral\n",
    "\n",
    "importlib.reload(crypto)\n",
    "importlib.reload(numeral)"
   ]
  },
  {
   "cell_type": "markdown",
   "metadata": {},
   "source": [
    "<p style=\"color:royalblue; font-size:18px;\">\n",
    "    <b>\n",
    "        Loading the Challange 6 Data\n",
    "    </b>\n",
    "</p>"
   ]
  },
  {
   "cell_type": "code",
   "execution_count": 2,
   "metadata": {},
   "outputs": [
    {
     "name": "stdout",
     "output_type": "stream",
     "text": [
      "Data length is 64\n",
      "String:  Jk8DCkkcC3hFMQIEC0EbAVIqCFZBO1IdBgZUVA4QTgUWSR4QJwwRTWM=\n",
      "Length:  56\n",
      "str len: 3835\n",
      "txt len: 3836\n"
     ]
    },
    {
     "data": {
      "text/plain": [
       "'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'"
      ]
     },
     "execution_count": 2,
     "metadata": {},
     "output_type": "execute_result"
    }
   ],
   "source": [
    "challange_data_addr = \"C:\\\\Users\\\\Oguz\\\\Desktop\\\\Cryptopals Challange\\\\challanges\\\\set_1\\\\challange_6.txt\"\n",
    "data = np.loadtxt(challange_data_addr, dtype='str')\n",
    "print(\"Data length is\", len(data))\n",
    "first_string = data[-1]\n",
    "first_string_len = len(first_string)\n",
    "print(\"String: \", first_string)\n",
    "print(\"Length: \", first_string_len)\n",
    "first_string[-1]\n",
    "\n",
    "\n",
    "data_str = \"\" \n",
    "lenn = 0\n",
    "for elem in data:\n",
    "    dum_len = len(elem)\n",
    "    lenn += dum_len\n",
    "    data_str += elem\n",
    "data_str = data_str[:-1]\n",
    "\n",
    "print(\"str len:\", len(data_str))\n",
    "print(\"txt len:\", lenn)\n",
    "\n",
    "data_str"
   ]
  },
  {
   "cell_type": "markdown",
   "metadata": {},
   "source": [
    "<p style=\"color:royalblue; font-size:18px;\">\n",
    "    <b>\n",
    "        Finding the Keysize for the Challange 6 Text\n",
    "    </b>\n",
    "</p>\n",
    "\n",
    "<p style=\"color:block; font-size:14px;\">\n",
    "    <b>\n",
    "      <p> For each KEYSIZE, take the first KEYSIZE worth of bytes, and the second KEYSIZE worth of bytes, and find the edit distance between them. Normalize this result by dividing by KEYSIZE.\n",
    "      </p>\n",
    "      <p>The KEYSIZE with the smallest normalized edit distance is probably the key. You could proceed perhaps with the \n",
    "        smallest 2-3 KEYSIZE values. Or take 4 KEYSIZE blocks instead of 2 and average the distances.\n",
    "        </p>\n",
    "    </b>\n",
    "</p>"
   ]
  },
  {
   "cell_type": "code",
   "execution_count": 3,
   "metadata": {},
   "outputs": [
    {
     "name": "stdout",
     "output_type": "stream",
     "text": [
      "[3.24843641 3.21306917 3.20972222 3.253125   3.28229167 3.20055613\n",
      " 3.22708333 3.15451389 3.22569444 3.20298404 3.23645833 3.14968815\n",
      " 3.20943135 3.15868056 3.14756944 3.22145329 3.19166667 3.25069252\n",
      " 3.15972222 3.22766771 3.15128383 3.2184265  3.25520833 3.16172414\n",
      " 3.17498267 3.23191416 3.25658807 2.73413793 3.22430556 3.20152619\n",
      " 3.16041667 3.16528926 3.19342561 3.20172117 3.15694444 3.22002772\n",
      " 3.11114958 3.18641719 3.13645833 3.20302302]\n",
      "[29 38 40 16 13]\n",
      "5753\n"
     ]
    },
    {
     "data": {
      "text/plain": [
       "2"
      ]
     },
     "execution_count": 3,
     "metadata": {},
     "output_type": "execute_result"
    }
   ],
   "source": [
    "importlib.reload(crypto)\n",
    " \n",
    "\n",
    "challange_6_numeral = numeral.Numeral(value=data_str, base=64)\n",
    "challange_6_numeral.Base16()\n",
    "\n",
    "challange_6 = crypto.Crypto(ciphertext = challange_6_numeral.value)\n",
    "\n",
    "challange_6_scores = challange_6.findKeysize()\n",
    "print(challange_6_scores)\n",
    "\n",
    "N = 5\n",
    "min_score_idx = np.array(challange_6_scores).argsort()[:N][::1]\n",
    "\n",
    "# Add the index off (Keysize starts from 2)\n",
    "min_score_idx += 2\n",
    "\n",
    "print(min_score_idx)\n",
    "print(len(challange_6_numeral.value))\n",
    "\n",
    "challange_6.base"
   ]
  },
  {
   "cell_type": "markdown",
   "metadata": {},
   "source": [
    "<p style=\"color:royalblue; font-size:18px;\">\n",
    "    <b>\n",
    "        Finding the Key\n",
    "    </b>\n",
    "</p>\n",
    "\n",
    "<p style=\"color:block; font-size:14px;\">\n",
    "    <b>\n",
    "      <p> Now that you probably know the KEYSIZE: break the ciphertext into blocks of KEYSIZE length.</p>\n",
    "      <p>Now transpose the blocks: make a block that is the first byte of every block, and a block that is the second byte of every block, and so on. Solve each block as if it was single-character XOR. You already have code to do this.</p>\n",
    "    </b>\n",
    "</p>"
   ]
  },
  {
   "cell_type": "code",
   "execution_count": 4,
   "metadata": {
    "scrolled": true
   },
   "outputs": [
    {
     "name": "stdout",
     "output_type": "stream",
     "text": [
      "100\n",
      "***\n",
      "232\n",
      "232\n",
      "232\n",
      "232\n",
      "232\n",
      "232\n",
      "232\n",
      "232\n",
      "232\n",
      "232\n",
      "232\n",
      "232\n",
      "232\n",
      "232\n",
      "232\n",
      "232\n",
      "232\n",
      "232\n",
      "232\n",
      "232\n",
      "232\n",
      "232\n",
      "232\n",
      "232\n",
      "232\n",
      "232\n",
      "232\n",
      "232\n",
      "232\n",
      "232\n",
      "232\n",
      "232\n",
      "232\n",
      "232\n",
      "232\n",
      "232\n",
      "232\n",
      "232\n",
      "232\n",
      "232\n",
      "232\n",
      "232\n",
      "232\n",
      "232\n",
      "232\n",
      "232\n",
      "232\n",
      "232\n",
      "232\n",
      "232\n",
      "232\n",
      "232\n",
      "232\n",
      "232\n",
      "232\n",
      "232\n",
      "232\n",
      "232\n",
      "232\n",
      "232\n",
      "232\n",
      "232\n",
      "232\n",
      "232\n",
      "232\n",
      "232\n",
      "232\n",
      "232\n",
      "232\n",
      "232\n",
      "232\n",
      "232\n",
      "232\n",
      "232\n",
      "232\n",
      "232\n",
      "232\n",
      "232\n",
      "232\n",
      "232\n",
      "232\n",
      "232\n",
      "232\n",
      "232\n",
      "232\n",
      "232\n",
      "232\n",
      "232\n",
      "232\n",
      "232\n",
      "232\n",
      "232\n",
      "232\n",
      "232\n",
      "232\n",
      "232\n",
      "232\n",
      "232\n",
      "232\n",
      "44\n",
      "800\n",
      "074d8f0d4e9d0ecd1d490e5d570e8dcc0e4ece8f4d888d4e4e9d4908d98ccf0c0e5d0d8e1c9d9dccc8c35d8f0d8e5e8e8b4d4d1d4c4c1dcb0c4ccb8e4d89dd578f0c574e1d0c5d4d4d5d1d0edc488c8e0d0e48cc098d8d8b8e9d0b4f8e574d480c0dde09\n",
      "800\n",
      "508003c5110180420284c4038a90c1514240c24245804290c2020211521107c3911b4391c50304454442021182c291c20351420b51850843c34551d14582028d04118fc403410f82c1010291d14552c24587115187474751d11b5140c28d820300d211c3\n",
      "800\n",
      "87070781410754c6c70501010297015ed71454d58514d494c5854441105e070745ce8557944447d75481c74742d449060441c50444c5870754c54146c18106805447078707000f850707424444c55405c50141450414174541cf41170547824400544c04\n",
      "800\n",
      "d3808283818086c046538193d393c70b93998653d3808287d302c5c7100ac281c2d3d3d080c0539380d253c5d3d303c043419342c7c3860286d3818380c0c08380c24613131053851302c743d3d382d3d38181820090934041838113d383d3c613864053\n",
      "800\n",
      "425212064252404152405243464b830147ce40425803424144d2125216c10606c3424012c1c34346c1814712434a01d307014312c30003924046430643c3c3064012124241d212134652c001435841475801420283114392400442584104445241808158\n",
      "796\n",
      "c359468506464243408143c0408013c241804200ce1300430340464393879386c283424f939382478640414a0380c19341c0814113871346428013c2025310c1014040000559438780420340c1c89307cd02060245138059061306d980130042c04102c\n",
      "792\n",
      "c00882d09182d0d180c0c383445085908150d083828000c6d1c682c38e108082c0c3c440819ac5009090c343c543c382c350c4c480509a83d0438d90909a90404143c201d01ac350c1834490c5818590c3d39090d08c50048181900c1385450545c5d0\n",
      "792\n",
      "87154447814444810387c480814847470644414644068415951541c40644000580d5d50644cd55054744048455044645c45fc695c045ce9544c4cf4645c84f0615c5045540cbc444068695465600474580554f40454640461546444655471506954446\n",
      "792\n",
      "d3075340d340c1d385d313d0c283034293c2c6c65382531906018013d3c007c213060647408600c642c2501019530347d38f130745474007c1d34f018501524303c2c100014013c200920342131302c0530353c74003c10303c686030b0307811953c0\n",
      "792\n",
      "c447c554c79480c797c6ced495878154de81c405c5d4c45e04c501c7d7074782c4c40507428182c65481d4d448c79445c007c00586450106c5ded48694c507819494c1c58701ce81d4014594c0c194c7c187c1474582c682470787820781040248c454\n",
      "792\n",
      "d3501395d69e135300d3c093541281961d80d1d15295111cd3d0d1d0c3515094d3d2d553d280c0d09680939254539a80534055d3d3c012d3d51b945195d4c092919080d3d1c1c0959280d399539291545016505380c0d5c0560012c05380d6c093138a\n",
      "792\n",
      "8fcc080c5e9f0c9e149e0e0fde4dca4dcc0dcf1e4a0c4bcb8d4fcc4c5e1ecc0c8fcf1d9e4d080acf4d0d8d0d0e9e4e0dde0a0d0d9f0c4d8f0b8d0d5e0c8f0c4e8e4d0c8f5eca0e0c4b0e0d0ede0f0ecf4d4b4a8f0a0b0f0b5d0ec80b4f0f5e0d0ec882\n",
      "792\n",
      "06d446171fd257138c0c97531315c6d310d7460c95161316960606d71c155556064686138755d346d395c6d55716d7141013d214c69587c615d3d216174793c5559716064697d6550697d5571246554695d4c6c6d41446140655461446931453504615\n",
      "792\n",
      "9ad391c09a40d4921a1ad180939095c0c0118a1a92d591d1c0948ac0539555d395908a9343559693c15591d152d3c0d2d3d380d38a504090404054c0c054d4801080d5939ec0d3018ac01180559510901091958ad39090909111939093d3d5d4c09890\n",
      "792\n",
      "5999ca089812d809594dca0bd8580a090e98855949184cc90bcb840a8b484c0a0a5892d818594b48cccaca4809890ec9cd8a089999ca084b090ec90108d8cd024d0289494b0d98d8840cd81209cac94b584cc984894d8b4dcb184d4dcb8a1bca0dcb4e\n",
      "792\n",
      "4754c0048d0e85d44794c7c2818d8587c7958647c08614d4865447c1444654c584850e8d8a4785c60585c007c194c5d4d44040544c46c78740c7d745048794d586d4d4d4414581864744810ac0c1d4058405c447549442945484c094174294c48647d4\n",
      "792\n",
      "d28101c283804181d28212d28041d241474283d252c68796c681529240519881c701d383c181d243d2c601438786c6828652048242c10341014712c6c6018341c2878084d1c2838152c381c19282879202d2c0528783d1838701408392d2865282c387\n",
      "792\n",
      "478047810706810140805943429346d213830741479341d3864249479353cf83534580008653590743c24745418350138647010006d253c2801259c082938213934106005301008642539386438140420659904341c653c6818003c64040834b061341\n",
      "792\n",
      "031151514384c2c380420c42d1d1414485c400c24182819280c4d142828b444387d1d183d1830a51d1d251d2d1c791858144c200c551805144451bc1c584c4839b82914490408292829b8bd001915182841b914283c280c2834051c280c4c7d1918281\n",
      "792\n",
      "93d5d6d3d0d241119555d313d4ca96c0159481408012938393c0d0151380949393d1d393d01115d4d3c0cac0d580d65291d341c011d314ca52515c9300d4d5d05e15ca940693c0c01341981490d1d013d35ed813945213529512d552959480d3d11395\n",
      "792\n",
      "840744c44346d5560001d585c79f550405c4c10603d595559500c546950604c0c0c70705c544840406068903c7074407c4c1d5035507868d4655c09507870746464489955187070194cdcc84c706c09404468644d5c3d5c3044407c315c70707809615\n",
      "792\n",
      "c003419252930212008100c3438e08c04652d2445218020c07004183060046465246404041464646c281c14147474641c31218410740c1419302030900464183c7c0c103124147c1c7c25152d2c246c752c7c452065207525252415201424747411203\n",
      "792\n",
      "4251020201d1c50242c2844500c25144830b02510489424002009111c24381d10182c0119111918040d1c2c40311128245048cc4c3c0c402d1424581440590c35104d141039011d21144110501c4801102515202c202c3020101020240d11104830984\n",
      "792\n",
      "c15340119552d010c1541455001355d11300d3535213d610800051519391904a9040004a555550d1d154930040004080c054d0005600d24055105416555280135540541414804a4050145e52135300501155409393155215d313401500554a53969313\n",
      "792\n",
      "d341195346034540d3d3c60705c0c1539203d3c602825353190386c04253408940030f8e07074043470093070319091900854007530b400601450181014002920706c693d3028d0782c2404682c719825301059082474647c582054701c18f0253c081\n",
      "792\n",
      "86c1099986c7051380809353c246c08353408240c59381860902c040d38083d213c043810505024610839087d319d20981c10182864712818102c0d3c0128053038182998003c040d3d3468393100fd39080c09353418241d093c041828180d380c245\n",
      "792\n",
      "c003814fc04392c88484c1c381c0c192c201c05292c800c087824003c7848301c24381c39280d2d252829141c64f018180818181c04212c6868353d8531207c786c2865384860712c1c79200c3d201c6910707c3d8829282d2c607828287c2c1879292\n",
      "792\n",
      "4514d48507545e15141445874754544501c1004047140545550194548714c014c55400004107475e5e85148480ce14c185c54780450241c7945494c894478746400154921481004e04464446074e948014051501de9444944547149400450247004747\n",
      "792\n",
      "91c4c08250c14c02c0c28411c3d0c1c1d1c505c3c2c1d19105d1c3db02c541c184c20240c25004495b92ca41c28dc1c29111c1c29147c504c3c1c504c0025180c0d1c0d7c7d2519180c001824081c184c90305404dcd42c802c1c0c951919104030284\n"
     ]
    },
    {
     "data": {
      "text/plain": [
       "'00001001110000110000010001010011010110001100'"
      ]
     },
     "execution_count": 4,
     "metadata": {},
     "output_type": "execute_result"
    }
   ],
   "source": [
    "# challange_6.Base2()\n",
    "# print(challange_6.base)\n",
    "\n",
    "keysize_cand = min_score_idx[0]\n",
    "blocksize = keysize_cand * 8\n",
    "bin_data = challange_6.value\n",
    "\n",
    "# Add 0's to the and of the data so that it is evenly divisible to KEYSIZE\n",
    "bin_data_size = len(bin_data)\n",
    "# print(bin_data_size)\n",
    "# remainder = bin_data_size % (blocksize)\n",
    "# print(remainder)\n",
    "# for i in range(abs(blocksize - remainder)):\n",
    "#     bin_data += \"0\"\n",
    "# bin_data_size = len(bin_data)\n",
    "# print(bin_data_size)\n",
    "\n",
    "# Create number of numerals to hold each block\n",
    "numeral_objs = [numeral.Numeral(value=\"\", base=2) for i in range(keysize_cand)]\n",
    "\n",
    "# Break the ciphertext into blocks of KEYSIZE length.\n",
    "block_no = int(bin_data_size / blocksize) + 1\n",
    "print(block_no)\n",
    "print(\"***\")\n",
    "\n",
    "block_list = []\n",
    "\n",
    "# In the first loop divide the data into (Keysize*8) bits\n",
    "for i in range(block_no):\n",
    "    dummy_block = bin_data[(i*blocksize):(i+1)*blocksize]\n",
    "    block_list.append(dummy_block)\n",
    "#     print(len(dummy_block))\n",
    "#     print(\"***\")\n",
    "    #In the second loop divide each block, and create a block of first, second, etc bytes\n",
    "    \n",
    "for keysize_block in block_list:\n",
    "    print(len(keysize_block))\n",
    "    for j in range(keysize_cand):\n",
    "        dummy_chunk = keysize_block[(j*8):(j+1)*8]\n",
    "        numeral_objs[j].value = numeral_objs[j].value + dummy_chunk\n",
    "\n",
    "\n",
    "# Convert the numeral_objs to Base16\n",
    "for i in range(keysize_cand):\n",
    "    print(len(numeral_objs[i].value))\n",
    "    numeral_objs[i].Base16()\n",
    "    print((numeral_objs[i].value))\n",
    "#     print(len(numeral_objs[i].value))\n",
    "\n",
    "\n",
    "block_list[-1]"
   ]
  },
  {
   "cell_type": "code",
   "execution_count": null,
   "metadata": {},
   "outputs": [],
   "source": [
    "importlib.reload(numeral)\n",
    "\n",
    "\n",
    "# Solve each block / Create KEYSIZE crypto instances for each block with the numeral_objs\n",
    "crypto_objs = [crypto.Crypto(ciphertext=numeral_objs[i].value) for i in range(keysize_cand)]\n",
    "\n",
    "\n",
    "len(crypto_objs[0].value)\n",
    "\n",
    "ch_6_key = \"\"\n",
    "for i in range(keysize_cand):\n",
    "    _, letter_k = crypto_objs[i].decipherSingleByteXOR(print_sln=True, N=1)\n",
    "    ch_6_key += letter_k\n",
    "    print(\"***\")\n",
    "\n",
    "print(ch_6_key)"
   ]
  },
  {
   "cell_type": "code",
   "execution_count": 13,
   "metadata": {
    "scrolled": true
   },
   "outputs": [
    {
     "name": "stdout",
     "output_type": "stream",
     "text": [
      "$´",
      "¬",
      "¹$´É¥¹¥¸Ñ¡±°)\u0004É½­¥¸½¸Ñ¡µ¥­Ý¡¥±Ñ¡±ä¥É±Ìå±°)%¸ÍÑ",
      "Íä¥¸Ñ¡",
      "¬½µ)]±°Ñ¡",
      "ÐÌµä\u0011(\u0011Í¡",
      "äÕÑÑ¥¸",
      "±°Ñ¡´hÌ)!¥ÑÑ¥¸¡",
      "É",
      "¹Ñ¡¥É±¥Ì½¥¸É",
      "éä)Y",
      "¹¥±±Ì½¸Ñ¡µ¥­°µ",
      "¸$´¹½Ð±",
      "éä¸()$´±ÑÑ¥¸µäÉÕ­¥¬¥¸)%Ð½¹ÑÉ½±Ìµäµ½ÕÑ ",
      "¹$¥¸)Q¼©ÕÍÐ±Ð¥Ð±½Ü°±Ðµä½¹ÁÑÌ¼)5äÁ½ÍÍÌÑ¼Ñ¡Í¥å±±¥¸°\u001d",
      "¼Y",
      "¹¥±±\u001d",
      "¼()Mµ½½Ñ ",
      "ÕÍÑ¡",
      "ÐÌÑ¡Ý",
      "ä$Ý¥±°)\u0005¹¥å½Ô½¸Ð¥Ù",
      "µ¸°Ñ¡¸)]¡äå½ÔÍÑ",
      "É¥¸",
      "Ðµ)M¼Ð½",
      "ÕÍ$½¹ÑÉ½°Ñ¡ÍÑ",
      ")Q¡ÉÌ¹¼¥ÍÍ¥¸",
      "±±½Ý)$´¥¸µä½Ý¸Á¡",
      "Í)Q¡¥É±¥ÌÍäÑ¡ä±½Ùµ",
      "¹Ñ¡",
      "Ð¥Ì½¬)\u0005¹$",
      "¸",
      "¹ÑÑÈÑ¡",
      "¸",
      "¹ä­¥¸Á±",
      "ä()MÑ",
      "È´´eÑ¡½¹åÝ",
      "¹¹±¥ÍÑ¸Ñ¼)%ÐÌ½µä¡",
      "Í¼±ÐÑ¡",
      "ÐÁ±",
      "äÑ¡É½Õ )M¼$",
      "¸Õ¹¬¥ÐÕÀ",
      "¹µ",
      "­¥ÐÍ½Õ¹½½(Ä´È´Ìe¼´´-¹½¬½¸Í½µÝ½½)\u0019½È½½±Õ¬°$±¥­µäÉ¡åµÌ",
      "ÑÉ½¥½ÕÌ)MÕÁÉ",
      "±",
      "É",
      "¥±¥ÍÑ¥áÁ¥",
      "±¥½¥½ÕÌ)$´",
      "¸Ð",
      "¹Ñ¡",
      "Ðå½Ô",
      "¸Ð)$",
      "¸Ñ",
      "­±ä¥É°",
      "¹µ",
      "­¡ÈÝÐ¸()$´±¥­M",
      "µÍ½¸´´M",
      "µÍ½¸Ñ¼\u0011±¥±",
      " )Q¡ÉÌ¹¼¹å¥¸°e½Ô",
      "¸ÑÉäÑ¼¡",
      "¹)\tÕÐå½Ô±°­ÀÑÉå¥¸Ñ¼ÐµäÍÑå±)=ÙÈ",
      "¹½ÙÈ°ÁÉ",
      "Ñ¥µ",
      "­ÌÁÉÐ)\tÕÐ¹½Ð¥å½ÔÉ±½",
      "È¸()e½Ô±°Ð¹½Ý¡É°¹¼Á±",
      "°¹¼Ñ¥µ°¹¼¥É±Ì)M½½¸´´= µä\u001d",
      "½°¡½µ½ä°å½ÔÁÉ½",
      "±ä",
      "Ð)MÁ",
      "¡ÑÑ¤Ý¥Ñ ÍÁ½½¸\r",
      "½µ½¸",
      "¹Í",
      "ä¥Ð()Y%@¸Y",
      "¹¥±±%åÀ°åÀ°$´½µ¥¸¡",
      "É±¥­É¡¥¹¼)%¹Ñ½á¥",
      "Ñ¥¹Í¼å½ÔÍÑ",
      "È±¥­Ý¥¹¼)M¼ÁÕ¹­ÌÍÑ½ÀÑÉå¥¹",
      "¹¥É°ÍÑ½ÀÉå¥¸)Y",
      "¹¥±±%¥ÌÍ±±¥¸",
      "¹å½ÔÁ½Á±",
      "ÉÕå¥¸(\r",
      "",
      "ÕÍÝ¡äÑ¡É",
      "­Ì",
      "É©½­¥¸±¥­\r",
      "É",
      "éä\u001d",
      "±Õ)5½Ù¥¸",
      "¹É½½Ù¥¸ÑÉå¥¹Ñ¼Í¥¹",
      "±½¹)\u0005±°Ñ¡É½Õ Ñ¡¡ÑÑ¼É½½Ù¥¸Ñ¡¥Ì¡ÉÍ½¹)9½Üå½ÔÉ",
      "µ",
      "éäÑ¡Y%@Á½ÍÍ¸()MÑÁÁ¥¸Í¼¡",
      "É±¥­\u001d",
      "Éµ",
      "¸9",
      "é¤)MÑ",
      "ÉÑ±äÑ¡",
      "ÍÌ¡¥ÑÑ¥¸É½Õ¹)Q¡ÉÌ¹¼ÑÉ¥ÁÁ¥¸½¸µ¥¹°$´©ÕÍÐÑÑ¥¸½Ý¸)MÁ",
      "É­",
      "µ",
      "Ñ¥°$´¡",
      "¹¥¸Ñ¥¡Ð±¥­",
      "¹",
      "Ñ¥)e½ÔÑÉ",
      "ÁÁµ½¹",
      "¹$Ñ¡½Õ¡ÐÑ¡",
      "Ð)e½Ôµ¥¡Ð¡",
      "Ù¥Ð)M¼ÍÑÀ½Ý¸",
      "¹±¹µå½ÕÈ",
      "È(àä¥¸µäÑ¥µe½Ô°äÀ¥Ìµäå",
      "È¸()e½ÔÉÝ",
      "­¹¥¸",
      "ÍÐ°e<",
      "¹$",
      "¸Ñ±°¥Ð)e½ÕÈ½äÌÑÑ¥¸¡½Ð°Í¼°Í¼$",
      "¸Íµ±°¥Ð)M¼½¸Ðµ",
      "",
      "¹½¸ÐÍ",
      "(\r",
      "",
      "ÕÍÑ¡±åÉ¥Ì±½¹Ñ¼%\r",
      "\u0014°e½Ô",
      "¸",
      "±°µ\u0011",
      ")e½ÔÉÁ¥Ñ¡¥¸¥Ð°Í¼ÍÑÀ",
      "¬",
      "¹¹ÕÉ)1ÐÑ¡Ý¥Ñ ½Ñ½È°%°¼Ñ¡",
      "¹Ñ¼ÕÉ)M¼½µÕÀ±½Í",
      "¹½¸ÐÍÅÕ",
      "É)e½ÔÝ",
      "¹¹",
      "ÑÑ±µ´´\u0005¹åÑ¥µ°",
      "¹åÝ¡É()e½ÔÑ¡½Õ¡ÐÑ¡",
      "Ð$Ý",
      "ÌÝ",
      "¬°\t½ä°å½ÔÉ",
      "ÝÉ½¹)M¼½µ½¸°ÙÉå½ä",
      "¹Í¥¹Ñ¡¥ÌÍ½¹()M",
      "ä´´A±",
      "äÑ¡",
      "ÐÕ¹­äµÕÍ¥M",
      "ä°¼Ý¡¥Ñ½ä°¼Ý¡¥Ñ½ä¼)Á±",
      "äÑ¡",
      "ÐÕ¹­äµÕÍ¥\u001d",
      "¼Ý¡¥Ñ½ä°¼Ý¡¥Ñ½ä°¼)1",
      "ä½Ý¸",
      "¹½½¥",
      "¹Á±",
      "äÑ¡",
      "ÐÕ¹­äµÕÍ¥Ñ¥±°å½Ô¥¸()A±",
      "äÑ¡",
      "ÐÕ¹­äµÕÍ¥\r",
      "½µ½¸°\r",
      "½µ½¸°±Ðµ¡",
      "È)A±",
      "äÑ¡",
      "ÐÕ¹­äµÕÍ¥Ý¡¥Ñ½äå½ÔÍ",
      "ä¥Ð°Í",
      "ä¥Ð)A±",
      "äÑ¡",
      "ÐÕ¹­äµÕÍ¥\u0004±¥ÑÑ±±½ÕÈ¹½Ü)A±",
      "äÑ¡",
      "ÐÕ¹­äµÕÍ¥°Ý¡¥Ñ½ä\r",
      "½µ½¸°\r",
      "½µ½¸°\r",
      "½µ½¸)A±",
      "äÑ¡",
      "ÐÕ¹­äµÕÍ¥)\n"
     ]
    }
   ],
   "source": [
    "importlib.reload(crypto)\n",
    "\n",
    "challenge_6_key = crypto.Crypto(plaintext=\"Terminator X: Bring the noise\")\n",
    "\n",
    "challenge_6_v2 = crypto.Crypto(ciphertext=data_str, base=64)\n",
    "\n",
    "b = challenge_6_v2.decodeRepeatingByteXOR(challenge_6_key)\n",
    "print(b)\n"
   ]
  },
  {
   "cell_type": "code",
   "execution_count": null,
   "metadata": {},
   "outputs": [],
   "source": [
    "deneme_str = \"CCCC\"\n",
    "\n",
    "hex_str = crypto.Crypto.ASCIIToHex(deneme_str)\n",
    "print(deneme_str, \"in hex :\",hex_str)\n",
    "\n",
    "a = numeral.Numeral(value=hex_str, base=16)\n",
    "a.Base64()\n",
    "hex_a = a.value\n",
    "print(hex_str, \"in b64 :\", hex_a)\n",
    "\n",
    "b64 = crypto.Crypto(ciphertext=hex_a)\n",
    "b64.base=64\n",
    "b64.Base2()\n",
    "print(hex_a, \"back to binary :\", b64.value)\n",
    "print(\"Binary lenght :\", len(b64.value))\n",
    "b64.Base16()\n",
    "print(hex_a, \"back to hex :\", b64.value)\n",
    "\n",
    "crypto.Crypto.toASCII(b64.value)"
   ]
  }
 ],
 "metadata": {
  "kernelspec": {
   "display_name": "Python 3",
   "language": "python",
   "name": "python3"
  },
  "language_info": {
   "codemirror_mode": {
    "name": "ipython",
    "version": 3
   },
   "file_extension": ".py",
   "mimetype": "text/x-python",
   "name": "python",
   "nbconvert_exporter": "python",
   "pygments_lexer": "ipython3",
   "version": "3.7.2"
  }
 },
 "nbformat": 4,
 "nbformat_minor": 2
}
