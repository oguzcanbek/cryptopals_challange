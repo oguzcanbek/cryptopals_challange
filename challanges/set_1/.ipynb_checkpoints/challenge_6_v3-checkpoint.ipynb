{
 "cells": [
  {
   "cell_type": "code",
   "execution_count": 1,
   "metadata": {},
   "outputs": [
    {
     "name": "stdout",
     "output_type": "stream",
     "text": [
      "C:\\Users\\Oguz\\Desktop\\Cryptopals Challange\n"
     ]
    },
    {
     "data": {
      "text/plain": [
       "<module 'libraries.numeral' from 'C:\\\\Users\\\\Oguz\\\\Desktop\\\\Cryptopals Challange\\\\libraries\\\\numeral.py'>"
      ]
     },
     "execution_count": 1,
     "metadata": {},
     "output_type": "execute_result"
    }
   ],
   "source": [
    "import os\n",
    "import sys\n",
    "module_path = os.path.abspath(os.path.join('..\\..'))\n",
    "if module_path not in sys.path:\n",
    "    sys.path.append(module_path)\n",
    "    \n",
    "import binascii\n",
    "import math\n",
    "import numpy as np\n",
    "import importlib\n",
    "print(module_path)\n",
    "\n",
    "from libraries import crypto\n",
    "from libraries import numeral\n",
    "\n",
    "importlib.reload(crypto)\n",
    "importlib.reload(numeral)"
   ]
  },
  {
   "cell_type": "markdown",
   "metadata": {},
   "source": [
    "<p style=\"color:royalblue; font-size:18px;\">\n",
    "    <b>\n",
    "        Loading the Challange 6 Data\n",
    "    </b>\n",
    "</p>"
   ]
  },
  {
   "cell_type": "code",
   "execution_count": 68,
   "metadata": {},
   "outputs": [
    {
     "name": "stdout",
     "output_type": "stream",
     "text": [
      "Data length is 64\n",
      "Last string:  Jk8DCkkcC3hFMQIEC0EbAVIqCFZBO1IdBgZUVA4QTgUWSR4QJwwRTWM=\n",
      "Length:  56\n"
     ]
    },
    {
     "data": {
      "text/plain": [
       "'Jk8DCkkcC3hFMQIEC0EbAVIqCFZBO1IdBgZUVA4QTgUWSR4QJwwRTWM='"
      ]
     },
     "execution_count": 68,
     "metadata": {},
     "output_type": "execute_result"
    }
   ],
   "source": [
    "challange_data_addr = \"C:\\\\Users\\\\Oguz\\\\Desktop\\\\Cryptopals Challange\\\\challanges\\\\set_1\\\\challange_6.txt\"\n",
    "data = np.loadtxt(challange_data_addr, dtype='str')\n",
    "print(\"Data length is\", len(data))\n",
    "last_string = data[-1]\n",
    "last_string_len = len(last_string)\n",
    "print(\"Last string: \", last_string)\n",
    "print(\"Length: \", last_string_len)\n",
    "last_string"
   ]
  },
  {
   "cell_type": "markdown",
   "metadata": {},
   "source": [
    "<p style=\"color:royalblue; font-size:18px;\">\n",
    "    <b>\n",
    "        Checking for \"=\" padding\n",
    "    </b>\n",
    "</p>"
   ]
  },
  {
   "cell_type": "code",
   "execution_count": 83,
   "metadata": {},
   "outputs": [
    {
     "name": "stdout",
     "output_type": "stream",
     "text": [
      "The last string contains 1 padding character(s) which is \"=\"\n",
      "Text len before: 23016\n",
      "Text len after : 23010\n",
      "Processed text length:  23008\n"
     ]
    }
   ],
   "source": [
    "number_of_padding_char = 0\n",
    "for letter in last_string:\n",
    "    if letter == \"=\":\n",
    "        number_of_padding_char += 1\n",
    "        \n",
    "print(\"The last string contains\", number_of_padding_char, \"padding character(s) which is \\\"=\\\"\")\n",
    "\n",
    "\n",
    "# Combine the data into one long string\n",
    "data_str = \"\" \n",
    "lenn = 0\n",
    "for elem in data:\n",
    "    dum_len = len(elem)\n",
    "    lenn += dum_len\n",
    "    data_str += elem\n",
    "    \n",
    "# Remove the padding characters\n",
    "data_str = data_str[:-number_of_padding_char]\n",
    "\n",
    "print(\"Text len before:\", lenn*6)\n",
    "print(\"Text len after :\", len(data_str)*6)\n",
    "\n",
    "# Convert the Base64 text to binary and remove the padding zeros if necessary\n",
    "# For every \"=\", remove 2 bits of zero from the end of the text\n",
    "challenge_6_obj = crypto.Crypto(ciphertext=data_str, base=64)\n",
    "challenge_6_obj.Base2()\n",
    "\n",
    "challenge_6_obj.value = challenge_6_obj.value[:(-number_of_padding_char*2)]\n",
    "\n",
    "print(\"Processed text length: \", len(challenge_6_obj.value))"
   ]
  },
  {
   "cell_type": "markdown",
   "metadata": {},
   "source": [
    "<p style=\"color:royalblue; font-size:18px;\">\n",
    "    <b>\n",
    "        Finding the Keysize for the Challange 6 Text\n",
    "    </b>\n",
    "</p>\n",
    "\n",
    "<p style=\"color:block; font-size:14px;\">\n",
    "    <b>\n",
    "      <p> For each KEYSIZE, take the first KEYSIZE worth of bytes, and the second KEYSIZE worth of bytes, and find the edit distance between them. Normalize this result by dividing by KEYSIZE.\n",
    "      </p>\n",
    "      <p>The KEYSIZE with the smallest normalized edit distance is probably the key. You could proceed perhaps with the \n",
    "        smallest 2-3 KEYSIZE values. Or take 4 KEYSIZE blocks instead of 2 and average the distances.\n",
    "        </p>\n",
    "    </b>\n",
    "</p>"
   ]
  },
  {
   "cell_type": "code",
   "execution_count": 85,
   "metadata": {},
   "outputs": [
    {
     "name": "stdout",
     "output_type": "stream",
     "text": [
      "[3.24878388 3.21272158 3.21006944 3.25277778 3.28194444 3.20055613\n",
      " 3.22708333 3.15381944 3.22534722 3.20263706 3.23680556 3.14934165\n",
      " 3.20943135 3.15833333 3.14722222 3.22110727 3.19166667 3.25069252\n",
      " 3.15972222 3.22732013 3.15128383 3.21808144 3.25486111 3.16172414\n",
      " 3.17463617 3.23156802 3.25658807 2.7337931  3.22465278 3.20187305\n",
      " 3.16076389 3.1649449  3.19342561 3.2020654  3.15729167 3.22037422\n",
      " 3.11149584 3.18607069 3.13611111 3.20267949]\n",
      "[29 38 40 16 13]\n",
      "5753\n"
     ]
    },
    {
     "data": {
      "text/plain": [
       "2"
      ]
     },
     "execution_count": 85,
     "metadata": {},
     "output_type": "execute_result"
    }
   ],
   "source": [
    "importlib.reload(crypto)\n",
    " \n",
    "\n",
    "challange_6 = crypto.Crypto(ciphertext = challenge_6_obj.value, base=2)\n",
    "\n",
    "challange_6_scores = challange_6.findKeysize()\n",
    "print(challange_6_scores)\n",
    "\n",
    "N = 5\n",
    "min_score_idx = np.array(challange_6_scores).argsort()[:N][::1]\n",
    "\n",
    "# Add the index off (Keysize starts from 2)\n",
    "min_score_idx += 2\n",
    "\n",
    "print(min_score_idx)\n",
    "print(len(challange_6_numeral.value))\n",
    "\n",
    "challange_6.base"
   ]
  },
  {
   "cell_type": "markdown",
   "metadata": {},
   "source": [
    "<p style=\"color:royalblue; font-size:18px;\">\n",
    "    <b>\n",
    "        Finding the Key\n",
    "    </b>\n",
    "</p>\n",
    "\n",
    "<p style=\"color:block; font-size:14px;\">\n",
    "    <b>\n",
    "      <p> Now that you probably know the KEYSIZE: break the ciphertext into blocks of KEYSIZE length.</p>\n",
    "      <p>Now transpose the blocks: make a block that is the first byte of every block, and a block that is the second byte of every block, and so on. Solve each block as if it was single-character XOR. You already have code to do this.</p>\n",
    "    </b>\n",
    "</p>"
   ]
  },
  {
   "cell_type": "code",
   "execution_count": 93,
   "metadata": {
    "scrolled": true
   },
   "outputs": [
    {
     "name": "stdout",
     "output_type": "stream",
     "text": [
      "100\n",
      "***\n"
     ]
    },
    {
     "data": {
      "text/plain": [
       "'0010011100001100000100010100110101100011'"
      ]
     },
     "execution_count": 93,
     "metadata": {},
     "output_type": "execute_result"
    }
   ],
   "source": [
    "# challange_6.Base2()\n",
    "# print(challange_6.base)\n",
    "\n",
    "keysize_cand = min_score_idx[0]\n",
    "blocksize = keysize_cand * 8\n",
    "bin_data = challange_6.value\n",
    "\n",
    "# Add 0's to the and of the data so that it is evenly divisible to KEYSIZE\n",
    "bin_data_size = len(bin_data)\n",
    "# print(bin_data_size)\n",
    "# remainder = bin_data_size % (blocksize)\n",
    "# print(remainder)\n",
    "# for i in range(abs(blocksize - remainder)):\n",
    "#     bin_data += \"0\"\n",
    "# bin_data_size = len(bin_data)\n",
    "# print(bin_data_size)\n",
    "\n",
    "# Create number of numerals to hold each block\n",
    "numeral_objs = [numeral.Numeral(value=\"\", base=2) for i in range(keysize_cand)]\n",
    "\n",
    "# Break the ciphertext into blocks of KEYSIZE length.\n",
    "block_no = int(bin_data_size / blocksize) + 1\n",
    "print(block_no)\n",
    "print(\"***\")\n",
    "\n",
    "block_list = []\n",
    "\n",
    "# In the first loop divide the data into (Keysize*8) bits\n",
    "for i in range(block_no):\n",
    "    dummy_block = bin_data[(i*blocksize):(i+1)*blocksize]\n",
    "    block_list.append(dummy_block)\n",
    "#     print(len(dummy_block))\n",
    "#     print(\"***\")\n",
    "    #In the second loop divide each block, and create a block of first, second, etc bytes\n",
    "    \n",
    "for keysize_block in block_list:\n",
    "#     print(len(keysize_block))\n",
    "    for j in range(keysize_cand):\n",
    "        dummy_chunk = keysize_block[(j*8):(j+1)*8]\n",
    "        numeral_objs[j].value = numeral_objs[j].value + dummy_chunk\n",
    "\n",
    "\n",
    "# Convert the numeral_objs to Base16\n",
    "for i in range(keysize_cand):\n",
    "#     print(len(numeral_objs[i].value))\n",
    "    numeral_objs[i].Base16()\n",
    "#     print((numeral_objs[i].value))\n",
    "#     print(len(numeral_objs[i].value))\n",
    "\n",
    "\n",
    "block_list[-1]"
   ]
  },
  {
   "cell_type": "code",
   "execution_count": 94,
   "metadata": {},
   "outputs": [
    {
     "name": "stdout",
     "output_type": "stream",
     "text": [
      "Key:  T  / Solution:  Ibhcl na ro ncemmoiavano pt1dhgn an'  euY hbo.oxaa ef ygeyoar hdo e bc  n'ueoanteraayo yiobtdc,s\n",
      "***\n",
      "Key:  e  / Solution:  'eis adnnuuiM'a nelnsen'nol - yi k shtrton ln mi nI rGihr  romSt YwiaYoaal  r,mry  yyy   emPohe, i\n",
      "***\n",
      "Key:  r  / Solution:  mllttl iogtty,u,  'e   efau2mleIe- ao, uomy!Vicwdcaeln ethtuip monnrOdnnycae eettdb ,gwLt.elyar Cc\n",
      "***\n",
      "Key:  m  / Solution:   leahltlt h   sA t  mdp fyp-Feif  -nn  n' y  anai eraugt halnnaleu  .!y dra  d  iheo- ohah  a t wo \n",
      "***\n",
      "Key:  i  / Solution:  b  sa hl k fpGentShaealy   3ossfch oggpolt eCn'tng eke hserederi  am  's ilfoumaad-g iyaoyy nhm\n",
      "***\n",
      "Key:  n  / Solution:  atyttealialoo dhoelT naamta r teaeS  ertliGaoi ioii s teo dd ,kkomnyasmdcliL pYetdy ot tn ofoie\n",
      "***\n",
      "Key:  a  / Solution:  cAh 'h 'acnos t e  lhacy'yhnY aicnradta  motmlhn rsb o nV   aenid n eos tet o,   P ped P,tuuwt \n",
      "***\n",
      "Key:  t  / Solution:  k eisegszkdwsVhingsoene   rdogtct  meB ciged elagl uaM ggIlbTIm cg tYdgln m,thcu Iwalwl ofl h n eo\n",
      "***\n",
      "Key:  o  / Solution:   r n mi y  ,eaaf etw d who  ore twsnumtfe,, ar S syrosh Piyh'aaehlio el'be  el a rnahabwuaCask n\n",
      "***\n",
      "Key:  r  / Solution:  aof m ro.iI 'nt taeg baeum-ooxaaeoytyi t  So dsoseievie k emt  temuIt te st ownwodyiyonnyotayPb \n",
      "***\n",
      "Key:     / Solution:  ncltyZln n lsi'yW gditeSnaga-dcpnktni  cy nhpnI o tln intNpetr ifa ne' ti lDohdsayan  t y k m y lo\n",
      "***\n",
      "Key:  X  / Solution:  dkyh 'i  be lsohoe rhttndhk  iide. nyseonooa cl pol'jngtoo hejcanhd!rcitboa eaenwsgstet,aytef mayP\n",
      "***\n",
      "Key:  :  / Solution:   i eDsetettl uyf lataa  eKloa   t'ot uo mgaeiyupi o' owsae'u,nda  ean ends n nh  ih h n h uiuy l\n",
      "***\n",
      "Key:     / Solution:  Ing J shIIg oat  fIiteg s nuultao,uym'wgehn kon nc a  s  ss a vmY n' g twcaaewnabagdmaonts Ca\n",
      "***\n",
      "Key:  B  / Solution:  ''ib  e'tim  hdy T'e reloSiocsih   'larhibedyeukc''kalgyeGb tItIeeow  Ss eien reSgtoto utnk,itoy\n",
      "***\n",
      "Key:  r  / Solution:  m raDHg m nytGeoo'hmsi  i otck dafIDYlekeerot e  sr Cinoro.ean 'i   uethoatYpt dbeao  y  bs ,y chm \n",
      "***\n",
      "Key:  i  / Solution:   olceiom c  ho nuce  st2sl  k,otl'eol e rldtspas yaandnou rsogmctiy,aeo doo ct a k tf,fwoif  s aet\n",
      "***\n",
      "Key:  n  / Solution:  rnskstiiloce!w' aris h teIs  Sc ymlu saesyia, tsinu' go'me e  hto kltd  ubhodt,chu uhoculmaAt h\n",
      "***\n",
      "Key:  g  / Solution:  i   htnkenTo  atsuenaoa-et ooIuiy  i kO  , , y ratnds g vrasttho u'el,oI'a  ot oingnig neuy  oa\n",
      "***\n",
      "Key:     / Solution:  ntyoai'ettonsy ts'  kn-n cun poogllcevpl  w yhgo' elrieSn rtaYur9n  n'CrcdcnlYBmskoktitkts lfnt\n",
      "***\n",
      "Key:  t  / Solution:  ghefyn ,tr ci gaesmy    tan leuuiiaaeeeonSyiieigp y ioAn t hiinogS 0iis'CEekou'eooe y yeeiy iiiu, \n",
      "***\n",
      "Key:  h  / Solution:  iel  'c iojedSIir  y aYthndsirs rkhnprraooottpne owkol'aeNipnguhoe ntota,  crt uy s w   l mcttn f\n",
      "***\n",
      "Key:  e  / Solution:  n lmc rmnlupem viIn tAneoe  okc cle    ff ouh!,ortVuhevl mpatp'i t ai' , u pate m ,oomhmbalme  tkCu\n",
      "***\n",
      "Key:     / Solution:  'm euhaa'sst owen oohnya  fgmeaa  ttaeepn      ra y i tapzti nt srs  bsYino bet nnuiuon u wlyon\n",
      "***\n",
      "Key:  n  / Solution:   i tazn  tsyoi 'c wed  buoe lInaSTrrncrl paIlynp Cnthziiind'rtt  fYseeotdre hy,gstsydyshhPe mk\n",
      "***\n",
      "Key:  o  / Solution:  tkItry mm  etla odny ktIeno ma' nahyydt.a-r 'Iiiietr'hien n'o ahemaoo  uc ,S -oo  iei, oieil mey\n",
      "***\n",
      "Key:  i  / Solution:  henWid Iyylglhl ani  Iihtakdwyfmbdme i   c-osVmnknloha rsd'' wtpap'ysu mt he os-uuec c pucatalu  \n",
      "***\n",
      "Key:  s  / Solution:  e  en '  eol  dttspl de't  o r e srtnoe bpI teglpezto   S onipt 8 trIahcinI q g'v b gl  reyosom\n",
      "***\n",
      "Key:  e  / Solution:   wel'aVmdmt i'ba rshoc  s ioraatmoeo'vB,OaoPco  al yruhbstgn ge d9y,  deandccuAhreSSoGoadC   uinu\n",
      "***\n",
      "Terminator X: Bring the noise\n"
     ]
    }
   ],
   "source": [
    "importlib.reload(numeral)\n",
    "\n",
    "\n",
    "# Solve each block / Create KEYSIZE crypto instances for each block with the numeral_objs\n",
    "crypto_objs = [crypto.Crypto(ciphertext=numeral_objs[i].value) for i in range(keysize_cand)]\n",
    "\n",
    "\n",
    "len(crypto_objs[0].value)\n",
    "\n",
    "ch_6_key = \"\"\n",
    "for i in range(keysize_cand):\n",
    "    _, letter_k = crypto_objs[i].decipherSingleByteXOR(print_sln=True, N=1)\n",
    "    ch_6_key += letter_k\n",
    "    print(\"***\")\n",
    "\n",
    "print(ch_6_key)"
   ]
  },
  {
   "cell_type": "code",
   "execution_count": 95,
   "metadata": {
    "scrolled": false
   },
   "outputs": [
    {
     "name": "stdout",
     "output_type": "stream",
     "text": [
      "I'm back and I'm ringin' the bell \n",
      "A rockin' on the mike while the fly girls yell \n",
      "In ecstasy in the back of me \n",
      "Well that's my DJ Deshay cuttin' all them Z's \n",
      "Hittin' hard and the girlies goin' crazy \n",
      "Vanilla's on the mike, man I'm not lazy. \n",
      "\n",
      "I'm lettin' my drug kick in \n",
      "It controls my mouth and I begin \n",
      "To just let it flow, let my concepts go \n",
      "My posse's to the side yellin', Go Vanilla Go! \n",
      "\n",
      "Smooth 'cause that's the way I will be \n",
      "And if you don't give a damn, then \n",
      "Why you starin' at me \n",
      "So get off 'cause I control the stage \n",
      "There's no dissin' allowed \n",
      "I'm in my own phase \n",
      "The girlies sa y they love me and that is ok \n",
      "And I can dance better than any kid n' play \n",
      "\n",
      "Stage 2 -- Yea the one ya' wanna listen to \n",
      "It's off my head so let the beat play through \n",
      "So I can funk it up and make it sound good \n",
      "1-2-3 Yo -- Knock on some wood \n",
      "For good luck, I like my rhymes atrocious \n",
      "Supercalafragilisticexpialidocious \n",
      "I'm an effect and that you can bet \n",
      "I can take a fly girl and make her wet. \n",
      "\n",
      "I'm like Samson -- Samson to Delilah \n",
      "There's no denyin', You can try to hang \n",
      "But you'll keep tryin' to get my style \n",
      "Over and over, practice makes perfect \n",
      "But not if you're a loafer. \n",
      "\n",
      "You'll get nowhere, no place, no time, no girls \n",
      "Soon -- Oh my God, homebody, you probably eat \n",
      "Spaghetti with a spoon! Come on and say it! \n",
      "\n",
      "VIP. Vanilla Ice yep, yep, I'm comin' hard like a rhino \n",
      "Intoxicating so you stagger like a wino \n",
      "So punks stop trying and girl stop cryin' \n",
      "Vanilla Ice is sellin' and you people are buyin' \n",
      "'Cause why the freaks are jockin' like Crazy Glue \n",
      "Movin' and groovin' trying to sing along \n",
      "All through the ghetto groovin' this here song \n",
      "Now you're amazed by the VIP posse. \n",
      "\n",
      "Steppin' so hard like a German Nazi \n",
      "Startled by the bases hittin' ground \n",
      "There's no trippin' on mine, I'm just gettin' down \n",
      "Sparkamatic, I'm hangin' tight like a fanatic \n",
      "You trapped me once and I thought that \n",
      "You might have it \n",
      "So step down and lend me your ear \n",
      "'89 in my time! You, '90 is my year. \n",
      "\n",
      "You're weakenin' fast, YO! and I can tell it \n",
      "Your body's gettin' hot, so, so I can smell it \n",
      "So don't be mad and don't be sad \n",
      "'Cause the lyrics belong to ICE, You can call me Dad \n",
      "You're pitchin' a fit, so step back and endure \n",
      "Let the witch doctor, Ice, do the dance to cure \n",
      "So come up close and don't be square \n",
      "You wanna battle me -- Anytime, anywhere \n",
      "\n",
      "You thought that I was weak, Boy, you're dead wrong \n",
      "So come on, everybody and sing this song \n",
      "\n",
      "Say -- Play that funky music Say, go white boy, go white boy go \n",
      "play that funky music Go white boy, go white boy, go \n",
      "Lay down and boogie and play that funky music till you die. \n",
      "\n",
      "Play that funky music Come on, Come on, let me hear \n",
      "Play that funky music white boy you say it, say it \n",
      "Play that funky music A little louder now \n",
      "Play that funky music, white boy Come on, Come on, Come on \n",
      "Play that funky music \n",
      "\n"
     ]
    }
   ],
   "source": [
    "importlib.reload(crypto)\n",
    "\n",
    "keykey = \"Terminator X: Bring the noise\"\n",
    "\n",
    "challenge_6_key = crypto.Crypto(plaintext=ch_6_key)\n",
    "\n",
    "challenge_6_v2 = crypto.Crypto(ciphertext=data_str, base=64)\n",
    "challenge_6_v2.Base2()\n",
    "\n",
    "# Because for converting it to \n",
    "challenge_6_v2.value = challenge_6_v2.value[:-2]\n",
    "\n",
    "b = challenge_6_v2.decodeRepeatingByteXOR(challenge_6_key)\n",
    "print(b)\n",
    "# (challenge_6_v2.value)"
   ]
  }
 ],
 "metadata": {
  "kernelspec": {
   "display_name": "Python 3",
   "language": "python",
   "name": "python3"
  },
  "language_info": {
   "codemirror_mode": {
    "name": "ipython",
    "version": 3
   },
   "file_extension": ".py",
   "mimetype": "text/x-python",
   "name": "python",
   "nbconvert_exporter": "python",
   "pygments_lexer": "ipython3",
   "version": "3.7.2"
  }
 },
 "nbformat": 4,
 "nbformat_minor": 2
}
